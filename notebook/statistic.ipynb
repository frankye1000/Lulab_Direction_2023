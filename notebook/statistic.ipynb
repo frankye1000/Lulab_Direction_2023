{
 "cells": [
  {
   "cell_type": "code",
   "execution_count": 8,
   "metadata": {},
   "outputs": [],
   "source": [
    "import pandas as pd"
   ]
  },
  {
   "cell_type": "code",
   "execution_count": 9,
   "metadata": {},
   "outputs": [],
   "source": [
    "tra_df = pd.read_csv('../dataset/training_dataset/direc/train/angelclass.csv')\n",
    "val_df = pd.read_csv('../dataset/training_dataset/direc/validation/angelclass.csv')\n",
    "tes_df = pd.read_csv('../dataset/test_dataset/direc/angelclass.csv')"
   ]
  },
  {
   "cell_type": "code",
   "execution_count": 13,
   "metadata": {},
   "outputs": [
    {
     "name": "stdout",
     "output_type": "stream",
     "text": [
      "train dataset\n",
      "class 0 =  44\n",
      "class 1 =  76\n",
      "class 2 =  7\n"
     ]
    }
   ],
   "source": [
    "print('train dataset')\n",
    "print('class 0 = ', (tra_df['class']==0).sum())\n",
    "print('class 1 = ', (tra_df['class']==1).sum())\n",
    "print('class 2 = ', (tra_df['class']==2).sum())\n",
    "# print('class 3 = ', (tra_df['class']==3).sum())\n"
   ]
  },
  {
   "cell_type": "code",
   "execution_count": 14,
   "metadata": {},
   "outputs": [
    {
     "name": "stdout",
     "output_type": "stream",
     "text": [
      "validation dataset\n",
      "class 0 =  1\n",
      "class 1 =  58\n",
      "class 2 =  5\n"
     ]
    }
   ],
   "source": [
    "print('validation dataset')\n",
    "print('class 0 = ', (val_df['class']==0).sum())\n",
    "print('class 1 = ', (val_df['class']==1).sum())\n",
    "print('class 2 = ', (val_df['class']==2).sum())\n",
    "# print('class 3 = ', (val_df['class']==3).sum())"
   ]
  },
  {
   "cell_type": "code",
   "execution_count": 15,
   "metadata": {},
   "outputs": [
    {
     "name": "stdout",
     "output_type": "stream",
     "text": [
      "test dataset\n",
      "class 0 =  7\n",
      "class 1 =  50\n",
      "class 2 =  6\n"
     ]
    }
   ],
   "source": [
    "print('test dataset')\n",
    "print('class 0 = ', (tes_df['class']==0).sum())\n",
    "print('class 1 = ', (tes_df['class']==1).sum())\n",
    "print('class 2 = ', (tes_df['class']==2).sum())\n",
    "# print('class 3 = ', (tes_df['class']==3).sum())"
   ]
  },
  {
   "cell_type": "code",
   "execution_count": null,
   "metadata": {},
   "outputs": [],
   "source": []
  }
 ],
 "metadata": {
  "kernelspec": {
   "display_name": "Python 3.9.15 ('myenv')",
   "language": "python",
   "name": "python3"
  },
  "language_info": {
   "codemirror_mode": {
    "name": "ipython",
    "version": 3
   },
   "file_extension": ".py",
   "mimetype": "text/x-python",
   "name": "python",
   "nbconvert_exporter": "python",
   "pygments_lexer": "ipython3",
   "version": "3.9.15"
  },
  "orig_nbformat": 4,
  "vscode": {
   "interpreter": {
    "hash": "e60de47cb3857121f9ee587fa65ec3e886692403f703077c3e6fd7aef069122f"
   }
  }
 },
 "nbformat": 4,
 "nbformat_minor": 2
}
