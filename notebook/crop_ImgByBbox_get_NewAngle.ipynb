{
 "cells": [
  {
   "cell_type": "code",
   "execution_count": 1,
   "metadata": {},
   "outputs": [],
   "source": [
    "import math\n",
    "import cv2 as cv\n",
    "import numpy as np\n",
    "import pandas as pd\n",
    "from PIL import Image\n",
    "from matplotlib import pyplot as plt"
   ]
  },
  {
   "cell_type": "code",
   "execution_count": 2,
   "metadata": {},
   "outputs": [],
   "source": [
    "# 兩點位置經由resize變換\n",
    "def resize_pos(x1,y1,src_size,tar_size): \n",
    "    w1=src_size[0]\n",
    "    h1=src_size[1]\n",
    "    w2=tar_size[0]\n",
    "    h2=tar_size[1]\n",
    "    y2=(h2/h1)*y1\n",
    "    x2=(w2/w1)*x1\n",
    "    return x2,y2\n",
    "\n",
    "def angle_of_vector(x, y):\n",
    "    angle = math.degrees(math.atan2(-y, x))   # y軸是相反的\n",
    "    if angle<0:\n",
    "        return angle+360\n",
    "    return angle\n",
    "     \n",
    "\n",
    "def angle_of_line(x1, y1, x2, y2): # 端點 中心\n",
    "    angle = math.degrees(math.atan2(-(y1-y2), x1-x2))\n",
    "    if angle<0:\n",
    "        return angle+360\n",
    "    return angle"
   ]
  },
  {
   "cell_type": "markdown",
   "metadata": {},
   "source": [
    "# train data"
   ]
  },
  {
   "cell_type": "code",
   "execution_count": 11,
   "metadata": {},
   "outputs": [],
   "source": [
    "tra_df = pd.read_csv(\"../dataset/training_dataset/direc/train/direction_20221222.csv\")\n",
    "tra_img_name = tra_df['img_name'].values.tolist()"
   ]
  },
  {
   "cell_type": "code",
   "execution_count": 12,
   "metadata": {},
   "outputs": [
    {
     "name": "stdout",
     "output_type": "stream",
     "text": [
      "u_000045.png --finish\n"
     ]
    }
   ],
   "source": [
    "filename = \"../dataset/training_dataset/bbox/20221102_anno_train_lines_0.txt\"\n",
    "bboxs=[]\n",
    "with open(filename) as file:\n",
    "    for line in file:\n",
    "        img_name = line.rstrip().split(\" \")[0]\n",
    "            \n",
    "        x_min,y_min,x_max,y_max,c = line.rstrip().split(\" \")[1].split(\",\")\n",
    "        bbox = (int(x_min), int(y_min), int(x_max), int(y_max))\n",
    "        if img_name in tra_img_name:\n",
    "            bboxs.append(bbox)\n",
    "        \n",
    "        '''crop image by bbox''' \n",
    "        img = Image.open('../dataset/training_dataset/img/train/unCrop/{}'.format(img_name))\n",
    "        img = img.crop(bbox)\n",
    "        # img.save(\"../dataset/training_dataset/img/train/Crop/{}\".format(img_name))  \n",
    "        \n",
    "        # # 兩次雙邊濾波\n",
    "        # img_arr = np.array(img)\n",
    "        # blurred_img_arr  = cv.bilateralFilter(img_arr, 15, 50,  50)  \n",
    "        # blurred_img2_arr = cv.bilateralFilter(blurred_img_arr, 15, 50, 50)\n",
    "        # plt.imsave('../dataset/training_dataset/img/train/CropSmooth/{}'.format(img_name), blurred_img2_arr)\n",
    "\n",
    "print(img_name, \"--finish\") \n"
   ]
  },
  {
   "cell_type": "code",
   "execution_count": 13,
   "metadata": {},
   "outputs": [],
   "source": [
    "# tra_df[\"bbox\"] = bboxs\n",
    "row,col = tra_df.shape\n",
    "# tra_df.head()"
   ]
  },
  {
   "cell_type": "code",
   "execution_count": 14,
   "metadata": {},
   "outputs": [],
   "source": [
    "new_angles = []\n",
    "old_angles = []\n",
    "for r in range(row):\n",
    "    img_name = tra_df.iloc[r:r+1]['img_name'].values[0]\n",
    "    x1 = tra_df.iloc[r:r+1]['x1'].values[0]\n",
    "    y1 = tra_df.iloc[r:r+1]['y1'].values[0]\n",
    "    x2 = tra_df.iloc[r:r+1]['x2'].values[0]\n",
    "    y2 = tra_df.iloc[r:r+1]['y2'].values[0]\n",
    "    old_angle = round(angle_of_line(x1, y1, x2, y2),0)\n",
    "    # x_min,y_min,x_max,y_max = tra_df.iloc[r:r+1]['bbox'].values[0]\n",
    "    \n",
    "    # new10x,new11y = resize_pos(x1-x_min,y1-y_min,[(x_max-x_min),(y_max-y_min)],[224,224])      # \n",
    "    # new12x,new13y = resize_pos(x2-x_min,y2-y_min,[(x_max-x_min),(y_max-y_min)],[224,224])\n",
    "    \n",
    "    \n",
    "    '''plot original''' \n",
    "    # img    = cv.imread('../dataset/training_dataset/img/validation/Crop/{}'.format(img_name))\n",
    "    # RGBimg = cv.cvtColor(img, cv.COLOR_BGR2RGB)\n",
    "    # plt.figure(figsize = (10,5))\n",
    "    # plt.plot([x1-x_min, x2-x_min],[y1-y_min, y2-y_min], color=\"yellow\", linewidth=5)\n",
    "    # plt.imshow(RGBimg)\n",
    "    # plt.title(img_name)\n",
    "    # plt.show()\n",
    "\n",
    "    '''plot resize to (224,224)''' \n",
    "    # RGBimg_reSize = cv.resize(RGBimg,(224,224))\n",
    "    # plt.figure(figsize = (10,5))\n",
    "    # plt.plot([new10x, new12x],[new11y, new13y], color=\"yellow\", linewidth=5)\n",
    "    # plt.imshow(RGBimg_reSize)\n",
    "    # plt.title(img_name)\n",
    "    # plt.show()\n",
    "\n",
    "\n",
    "    # new_angle  = round(angle_of_line(new10x, new11y, new12x, new13y),0)\n",
    "    \n",
    "    # print(\"img_name=\",img_name,\"old_angle=\", old_angle,\"new_angle=\", new_angle)\n",
    "    \n",
    "    old_angles.append(old_angle)\n",
    "    # new_angles.append(new_angle)"
   ]
  },
  {
   "cell_type": "code",
   "execution_count": 15,
   "metadata": {},
   "outputs": [],
   "source": [
    "# tra_df['new_angle'] = new_angles  # 這是resize後的角度\n",
    "tra_df['old_angle'] = old_angles    # !!!!!!!! 我們需要真正的角度 !!!!!!!!!!!!!! \n",
    "tra_df.to_csv(\"../dataset/training_dataset/direc/train/old_angle_20221222.csv\",index=False)"
   ]
  },
  {
   "cell_type": "code",
   "execution_count": null,
   "metadata": {},
   "outputs": [],
   "source": [
    "\n"
   ]
  },
  {
   "cell_type": "markdown",
   "metadata": {},
   "source": [
    "# validation data"
   ]
  },
  {
   "cell_type": "code",
   "execution_count": null,
   "metadata": {},
   "outputs": [],
   "source": [
    "val_df = pd.read_csv(\"../dataset/training_dataset/direc/validation/direction_20221222.csv\")\n",
    "val_img_name = val_df['img_name'].values.tolist()"
   ]
  },
  {
   "cell_type": "code",
   "execution_count": null,
   "metadata": {},
   "outputs": [],
   "source": [
    "filename = \"../dataset/training_dataset/bbox/20221102_anno_val_lines_0.txt\"\n",
    "bboxs=[]\n",
    "with open(filename) as file:\n",
    "    for line in file:\n",
    "        img_name = line.rstrip().split(\" \")[0]\n",
    "            \n",
    "        x_min,y_min,x_max,y_max,c = line.rstrip().split(\" \")[1].split(\",\")\n",
    "        bbox = (int(x_min), int(y_min), int(x_max), int(y_max))\n",
    "        if img_name in val_img_name:\n",
    "            bboxs.append(bbox)\n",
    "        \n",
    "        '''crop image by bbox''' \n",
    "        img = Image.open('../dataset/training_dataset/img/validation/unCrop/{}'.format(img_name))\n",
    "        img = img.crop(bbox)\n",
    "        #img.save(\"../dataset/training_dataset/img/validation/Crop/{}\".format(img_name))  \n",
    "\n",
    "        # # 兩次雙邊濾波\n",
    "        # img_arr = np.array(img)\n",
    "        # blurred_img_arr  = cv.bilateralFilter(img_arr, 15, 50,  50)  \n",
    "        # blurred_img2_arr = cv.bilateralFilter(blurred_img_arr, 15, 50, 50)\n",
    "        # plt.imsave('../dataset/training_dataset/img/validation/CropSmooth/{}'.format(img_name), blurred_img2_arr)\n",
    "print(img_name,\"--finish\") \n"
   ]
  },
  {
   "cell_type": "code",
   "execution_count": null,
   "metadata": {},
   "outputs": [],
   "source": [
    "# val_df[\"bbox\"] = bboxs\n",
    "row,col = val_df.shape\n",
    "val_df.head()"
   ]
  },
  {
   "cell_type": "code",
   "execution_count": null,
   "metadata": {},
   "outputs": [],
   "source": [
    "new_angles = []\n",
    "old_angles = []\n",
    "for r in range(row):\n",
    "    img_name = val_df.iloc[r:r+1]['img_name'].values[0]\n",
    "    x1 = val_df.iloc[r:r+1]['x1'].values[0]\n",
    "    y1 = val_df.iloc[r:r+1]['y1'].values[0]\n",
    "    x2 = val_df.iloc[r:r+1]['x2'].values[0]\n",
    "    y2 = val_df.iloc[r:r+1]['y2'].values[0]\n",
    "    old_angle = round(angle_of_line(x1, y1, x2, y2),0)\n",
    "    # x_min,y_min,x_max,y_max = val_df.iloc[r:r+1]['bbox'].values[0]\n",
    "    \n",
    "    # new10x,new11y = resize_pos(x1-x_min,y1-y_min,[(x_max-x_min),(y_max-y_min)],[224,224])      # \n",
    "    # new12x,new13y = resize_pos(x2-x_min,y2-y_min,[(x_max-x_min),(y_max-y_min)],[224,224])\n",
    "    \n",
    "    \n",
    "    '''plot original''' \n",
    "    # img    = cv.imread('../dataset/training_dataset/img/validation/Crop/{}'.format(img_name))\n",
    "    # RGBimg = cv.cvtColor(img, cv.COLOR_BGR2RGB)\n",
    "    # plt.figure(figsize = (10,5))\n",
    "    # plt.plot([x1-x_min, x2-x_min],[y1-y_min, y2-y_min], color=\"yellow\", linewidth=5)\n",
    "    # plt.imshow(RGBimg)\n",
    "    # plt.title(img_name)\n",
    "    # plt.show()\n",
    "\n",
    "    '''plot resize to (224,224)''' \n",
    "    # RGBimg_reSize = cv.resize(RGBimg,(224,224))\n",
    "    # plt.figure(figsize = (10,5))\n",
    "    # plt.plot([new10x, new12x],[new11y, new13y], color=\"yellow\", linewidth=5)\n",
    "    # plt.imshow(RGBimg_reSize)\n",
    "    # plt.title(img_name)\n",
    "    # plt.show()\n",
    "\n",
    "\n",
    "    # new_angle  = round(angle_of_line(new10x, new11y, new12x, new13y),0)\n",
    "    \n",
    "    # print(\"img_name= \",img_name,\"old_angle= \", old_angle,\"new_angle=\", new_angle)\n",
    "    \n",
    "    old_angles.append(old_angle)\n",
    "    # new_angles.append(new_angle)"
   ]
  },
  {
   "cell_type": "code",
   "execution_count": null,
   "metadata": {},
   "outputs": [],
   "source": [
    "# val_df['new_angle'] = new_angles\n",
    "val_df['old_angle'] = old_angles        # !!!!!!!! 我們需要真正的角度 !!!!!!!!!!!!!! \n",
    "val_df.to_csv(\"../dataset/training_dataset/direc/validation/old_angle_20221222.csv\",index=False)"
   ]
  },
  {
   "cell_type": "code",
   "execution_count": null,
   "metadata": {},
   "outputs": [],
   "source": []
  },
  {
   "cell_type": "code",
   "execution_count": null,
   "metadata": {},
   "outputs": [],
   "source": []
  },
  {
   "cell_type": "markdown",
   "metadata": {},
   "source": [
    "# test data"
   ]
  },
  {
   "cell_type": "code",
   "execution_count": null,
   "metadata": {},
   "outputs": [],
   "source": [
    "tes_df = pd.read_csv(\"../dataset/test_dataset/direc/direction_20221222.csv\")\n",
    "tes_img_name = tes_df['img_name'].values.tolist()"
   ]
  },
  {
   "cell_type": "code",
   "execution_count": null,
   "metadata": {},
   "outputs": [],
   "source": [
    "filename = \"../dataset/test_dataset/bbox/20221102_anno_test_lines_0.txt\"\n",
    "bboxs = []\n",
    "with open(filename) as file:\n",
    "    for line in file:\n",
    "        img_name = line.rstrip().split(\" \")[0]\n",
    "            \n",
    "        x_min,y_min,x_max,y_max,c = line.rstrip().split(\" \")[1].split(\",\")\n",
    "        bbox = (int(x_min), int(y_min), int(x_max), int(y_max))\n",
    "        if img_name in tes_img_name:\n",
    "            bboxs.append(bbox)\n",
    "        \n",
    "        '''crop image by bbox''' \n",
    "        img = Image.open('../dataset/test_dataset/img/unCrop/{}'.format(img_name))\n",
    "        img = img.crop(bbox)\n",
    "        # img.save(\"../dataset/test_dataset/img/Crop/{}\".format(img_name))  \n",
    "        # 兩次雙邊濾波\n",
    "        img_arr = np.array(img)\n",
    "        # blurred_img_arr  = cv.bilateralFilter(img_arr, 15, 50,  50)  \n",
    "        # blurred_img2_arr = cv.bilateralFilter(blurred_img_arr, 15, 50, 50)\n",
    "        # plt.imsave('../dataset/test_dataset/img/CropSmooth/{}'.format(img_name), blurred_img2_arr)\n",
    "print(img_name,\"--finish\") \n"
   ]
  },
  {
   "cell_type": "code",
   "execution_count": null,
   "metadata": {},
   "outputs": [],
   "source": [
    "tes_df[\"bbox\"] = bboxs\n",
    "row,col = tes_df.shape\n",
    "tes_df[:5]"
   ]
  },
  {
   "cell_type": "code",
   "execution_count": null,
   "metadata": {},
   "outputs": [],
   "source": [
    "new_angles = []\n",
    "old_angles = []\n",
    "for r in range(row):\n",
    "    img_name = tes_df.iloc[r:r+1]['img_name'].values[0]\n",
    "    x1 = tes_df.iloc[r:r+1]['x1'].values[0]\n",
    "    y1 = tes_df.iloc[r:r+1]['y1'].values[0]\n",
    "    x2 = tes_df.iloc[r:r+1]['x2'].values[0]\n",
    "    y2 = tes_df.iloc[r:r+1]['y2'].values[0]\n",
    "    old_angle = round(angle_of_line(x1, y1, x2, y2),0)\n",
    "    x_min,y_min,x_max,y_max = tes_df.iloc[r:r+1]['bbox'].values[0]\n",
    "    \n",
    "    new10x,new11y = resize_pos(x1-x_min,y1-y_min,[(x_max-x_min),(y_max-y_min)],[224,224])      \n",
    "    new12x,new13y = resize_pos(x2-x_min,y2-y_min,[(x_max-x_min),(y_max-y_min)],[224,224])\n",
    "    \n",
    "    \n",
    "    '''plot original''' \n",
    "    # img    = cv.imread('../dataset/training_dataset/img/validation/Crop/{}'.format(img_name))\n",
    "    # RGBimg = cv.cvtColor(img, cv.COLOR_BGR2RGB)\n",
    "    # plt.figure(figsize = (10,5))\n",
    "    # plt.plot([x1-x_min, x2-x_min],[y1-y_min, y2-y_min], color=\"yellow\", linewidth=5)\n",
    "    # plt.imshow(RGBimg)\n",
    "    # plt.title(img_name)\n",
    "    # plt.show()\n",
    "\n",
    "    '''plot resize to (224,224)''' \n",
    "    # RGBimg_reSize = cv.resize(RGBimg,(224,224))\n",
    "    # plt.figure(figsize = (10,5))\n",
    "    # plt.plot([new10x, new12x],[new11y, new13y], color=\"yellow\", linewidth=5)\n",
    "    # plt.imshow(RGBimg_reSize)\n",
    "    # plt.title(img_name)\n",
    "    # plt.show()\n",
    "\n",
    "\n",
    "    new_angle  = round(angle_of_line(new10x, new11y, new12x, new13y),0)\n",
    "    \n",
    "    # print(\"img_name=\",img_name,\"old_angle=\", old_angle,\"new_angle=\", new_angle)\n",
    "    \n",
    "    old_angles.append(old_angle)\n",
    "    new_angles.append(new_angle)"
   ]
  },
  {
   "cell_type": "code",
   "execution_count": null,
   "metadata": {},
   "outputs": [],
   "source": [
    "tes_df['old_angle'] = old_angles        # !!!!!!!! 我們需要真正的角度 !!!!!!!!!!!!!! \n",
    "# tes_df['new_angle'] = new_angles\n",
    "tes_df.to_csv(\"../dataset/test_dataset/direc/old_angle_20221222.csv\", index=False)"
   ]
  },
  {
   "cell_type": "code",
   "execution_count": null,
   "metadata": {},
   "outputs": [],
   "source": []
  }
 ],
 "metadata": {
  "kernelspec": {
   "display_name": "Python 3.9.15 ('myenv')",
   "language": "python",
   "name": "python3"
  },
  "language_info": {
   "codemirror_mode": {
    "name": "ipython",
    "version": 3
   },
   "file_extension": ".py",
   "mimetype": "text/x-python",
   "name": "python",
   "nbconvert_exporter": "python",
   "pygments_lexer": "ipython3",
   "version": "3.9.15 (main, Nov  4 2022, 16:13:54) \n[GCC 11.2.0]"
  },
  "orig_nbformat": 4,
  "vscode": {
   "interpreter": {
    "hash": "e60de47cb3857121f9ee587fa65ec3e886692403f703077c3e6fd7aef069122f"
   }
  }
 },
 "nbformat": 4,
 "nbformat_minor": 2
}
