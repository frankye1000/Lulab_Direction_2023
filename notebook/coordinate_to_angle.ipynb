{
 "cells": [
  {
   "cell_type": "code",
   "execution_count": 1,
   "metadata": {},
   "outputs": [],
   "source": [
    "import math\n",
    "import cv2 as cv\n",
    "import numpy as np\n",
    "import pandas as pd\n",
    "from PIL import Image\n",
    "from matplotlib import pyplot as plt\n"
   ]
  },
  {
   "cell_type": "code",
   "execution_count": 2,
   "metadata": {},
   "outputs": [],
   "source": [
    "def angle_of_line(x1, y1, x2, y2): # 端點 中心\n",
    "    angle = math.degrees(math.atan2(-(y1-y2), x1-x2))\n",
    "    if angle<0:\n",
    "        return angle+360\n",
    "    return angle"
   ]
  },
  {
   "cell_type": "code",
   "execution_count": 5,
   "metadata": {},
   "outputs": [],
   "source": [
    "df = pd.read_csv(\"../dataset_20230323/coordinate_20230323.csv\")\n",
    "row,col = df.shape"
   ]
  },
  {
   "cell_type": "code",
   "execution_count": 22,
   "metadata": {},
   "outputs": [],
   "source": [
    "angles = []\n",
    "for r in range(row): \n",
    "    imgname_front = df.iloc[r:r+1]['imgname_front'].values[0]\n",
    "    x1 = df.iloc[r:r+1]['x1'].values[0]\n",
    "    y1 = df.iloc[r:r+1]['y1'].values[0]\n",
    "    x2 = df.iloc[r:r+1]['x2'].values[0]\n",
    "    y2 = df.iloc[r:r+1]['y2'].values[0]\n",
    "    angle = angle_of_line(x1, y1, x2, y2)\n",
    "    if angle > 180:\n",
    "        angle = angle_of_line(x2, y2, x1, y1)\n",
    "        angles.append(angle)\n",
    "    else:\n",
    "        angles.append(angle)"
   ]
  },
  {
   "cell_type": "code",
   "execution_count": 24,
   "metadata": {},
   "outputs": [],
   "source": [
    "df['angle'] = angles"
   ]
  },
  {
   "cell_type": "code",
   "execution_count": 26,
   "metadata": {},
   "outputs": [],
   "source": [
    "df.to_csv(\"../dataset_20230323/angle_20230323.csv\",index=False)"
   ]
  },
  {
   "cell_type": "code",
   "execution_count": null,
   "metadata": {},
   "outputs": [],
   "source": []
  },
  {
   "cell_type": "code",
   "execution_count": null,
   "metadata": {},
   "outputs": [],
   "source": []
  }
 ],
 "metadata": {
  "kernelspec": {
   "display_name": "base",
   "language": "python",
   "name": "python3"
  },
  "language_info": {
   "codemirror_mode": {
    "name": "ipython",
    "version": 3
   },
   "file_extension": ".py",
   "mimetype": "text/x-python",
   "name": "python",
   "nbconvert_exporter": "python",
   "pygments_lexer": "ipython3",
   "version": "3.9.13"
  },
  "orig_nbformat": 4
 },
 "nbformat": 4,
 "nbformat_minor": 2
}
