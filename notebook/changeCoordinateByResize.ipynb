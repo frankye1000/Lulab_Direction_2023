{
 "cells": [
  {
   "cell_type": "code",
   "execution_count": null,
   "metadata": {},
   "outputs": [],
   "source": [
    "# 兩點位置經由resize變換\n",
    "def resize_pos(x1,y1,src_size,tar_size): \n",
    "    w1=src_size[0]\n",
    "    h1=src_size[1]\n",
    "    w2=tar_size[0]\n",
    "    h2=tar_size[1]\n",
    "    y2=(h2/h1)*y1\n",
    "    x2=(w2/w1)*x1"
   ]
  },
  {
   "cell_type": "code",
   "execution_count": null,
   "metadata": {},
   "outputs": [],
   "source": []
  }
 ],
 "metadata": {
  "kernelspec": {
   "display_name": "Python 3.6.9 64-bit",
   "language": "python",
   "name": "python3"
  },
  "language_info": {
   "name": "python",
   "version": "3.6.9"
  },
  "orig_nbformat": 4,
  "vscode": {
   "interpreter": {
    "hash": "31f2aee4e71d21fbe5cf8b01ff0e069b9275f58929596ceb00d14d90e3e16cd6"
   }
  }
 },
 "nbformat": 4,
 "nbformat_minor": 2
}
