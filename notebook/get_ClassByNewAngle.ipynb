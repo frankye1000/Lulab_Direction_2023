{
 "cells": [
  {
   "cell_type": "code",
   "execution_count": 1,
   "metadata": {},
   "outputs": [],
   "source": [
    "import math\n",
    "import cv2 as cv\n",
    "import numpy as np\n",
    "import pandas as pd\n",
    "from matplotlib import pyplot as plt"
   ]
  },
  {
   "cell_type": "code",
   "execution_count": 2,
   "metadata": {},
   "outputs": [],
   "source": [
    "tra_df = pd.read_csv(\"../dataset/training_dataset/direc/train/new_angle.csv\")\n",
    "val_df = pd.read_csv(\"../dataset/training_dataset/direc/validation/new_angle.csv\")\n",
    "tes_df = pd.read_csv(\"../dataset/test_dataset/direc/new_angle.csv\")"
   ]
  },
  {
   "cell_type": "code",
   "execution_count": 3,
   "metadata": {},
   "outputs": [],
   "source": [
    "# def angle_of_vector(x, y):\n",
    "#     angle = math.degrees(math.atan2(-y, x))   # y軸是相反的\n",
    "#     if angle<0:\n",
    "#         return angle+360\n",
    "#     return angle\n",
    "     \n",
    "\n",
    "# def angle_of_line(x1, y1, x2, y2): # 端點 中心\n",
    "#     angle = math.degrees(math.atan2(-(y1-y2), x1-x2))\n",
    "#     if angle<0:\n",
    "#         return angle+360\n",
    "#     return angle"
   ]
  },
  {
   "cell_type": "code",
   "execution_count": 4,
   "metadata": {},
   "outputs": [],
   "source": [
    "def angleToClass(angle):\n",
    "    c = 0\n",
    "    # if angle>=0 and angle<45:\n",
    "    #     return 0\n",
    "    if angle>=90 and angle<110:\n",
    "        return 0\n",
    "    elif angle>=110 and angle<130:\n",
    "        return 1\n",
    "    elif angle>=130 and angle<180:\n",
    "        return 2\n",
    "    else:\n",
    "        return 'right'\n",
    "    # elif angle>=130 and angle<180:\n",
    "        #  return 3\n",
    "    # elif angle>=180 and angle<225:\n",
    "    #     return 4\n"
   ]
  },
  {
   "cell_type": "code",
   "execution_count": 5,
   "metadata": {},
   "outputs": [],
   "source": [
    "def getClass(df):\n",
    "    row, col = df.shape\n",
    "    classs = [] \n",
    "    for r in range(row):\n",
    "        new_angle = df.iloc[r:r+1]['new_angle'].values[0]\n",
    "        classs.append(angleToClass(new_angle))\n",
    "    return classs"
   ]
  },
  {
   "cell_type": "code",
   "execution_count": null,
   "metadata": {},
   "outputs": [],
   "source": [
    "\n"
   ]
  },
  {
   "cell_type": "code",
   "execution_count": 6,
   "metadata": {},
   "outputs": [],
   "source": [
    "tra_classs = getClass(tra_df)\n",
    "tra_df['new_class'] = tra_classs\n",
    "tra_df.to_csv(\"../dataset/training_dataset/direc/train/new_class.csv\",index=False)\n",
    "\n",
    "val_classs = getClass(val_df)\n",
    "val_df['new_class'] = val_classs\n",
    "val_df.to_csv(\"../dataset/training_dataset/direc/validation/new_class.csv\",index=False)\n",
    "\n",
    "tes_classs = getClass(tes_df)\n",
    "tes_df['new_class'] = tes_classs\n",
    "tes_df.to_csv(\"../dataset/test_dataset/direc/new_class.csv\",index=False)\n"
   ]
  },
  {
   "cell_type": "markdown",
   "metadata": {},
   "source": [
    "# 統計分析"
   ]
  },
  {
   "cell_type": "code",
   "execution_count": 7,
   "metadata": {},
   "outputs": [
    {
     "name": "stdout",
     "output_type": "stream",
     "text": [
      "train dataset\n",
      "class right =  35\n",
      "class 1 =  35\n",
      "class 2 =  23\n",
      "class 0 =  33\n",
      "75.0  ~  164.0\n"
     ]
    }
   ],
   "source": [
    "print('train dataset')\n",
    "tra_cls = set(tra_df['new_class'])\n",
    "for c in tra_cls:\n",
    "    print('class {} = '.format(c), (tra_df['new_class']==c).sum())\n",
    "\n",
    "print(min(tra_df['new_angle']), \" ~ \" ,max(tra_df['new_angle']))"
   ]
  },
  {
   "cell_type": "code",
   "execution_count": 8,
   "metadata": {},
   "outputs": [
    {
     "name": "stdout",
     "output_type": "stream",
     "text": [
      "validation dataset\n",
      "class right =  1\n",
      "class 1 =  26\n",
      "class 2 =  17\n",
      "class 0 =  20\n",
      "82.0  ~  133.0\n"
     ]
    }
   ],
   "source": [
    "print('validation dataset')\n",
    "tra_cls = set(tra_df['new_class'])\n",
    "for c in tra_cls:\n",
    "    print('class {} = '.format(c), (val_df['new_class']==c).sum())\n",
    "\n",
    "print(min(val_df['new_angle']), \" ~ \" ,max(val_df['new_angle']))"
   ]
  },
  {
   "cell_type": "code",
   "execution_count": 9,
   "metadata": {},
   "outputs": [
    {
     "name": "stdout",
     "output_type": "stream",
     "text": [
      "test dataset\n",
      "class right =  0\n",
      "class 1 =  21\n",
      "class 2 =  24\n",
      "class 0 =  18\n",
      "93.0  ~  158.0\n"
     ]
    }
   ],
   "source": [
    "print('test dataset')\n",
    "tra_cls = set(tra_df['new_class'])\n",
    "for c in tra_cls:\n",
    "    print('class {} = '.format(c), (tes_df['new_class']==c).sum())\n",
    "\n",
    "print(min(tes_df['new_angle']), \" ~ \" ,max(tes_df['new_angle']))"
   ]
  },
  {
   "cell_type": "code",
   "execution_count": null,
   "metadata": {},
   "outputs": [],
   "source": []
  },
  {
   "cell_type": "code",
   "execution_count": 10,
   "metadata": {},
   "outputs": [],
   "source": [
    "import matplotlib.pyplot as plt"
   ]
  },
  {
   "cell_type": "code",
   "execution_count": 11,
   "metadata": {},
   "outputs": [
    {
     "data": {
      "text/plain": [
       "(array([ 5.,  6., 21.,  8., 13.,  6.,  4., 11., 15.,  4.,  7.,  1., 10.,\n",
       "         5.,  2.,  2.,  0.,  3.,  2.,  1.]),\n",
       " array([ 75.  ,  79.45,  83.9 ,  88.35,  92.8 ,  97.25, 101.7 , 106.15,\n",
       "        110.6 , 115.05, 119.5 , 123.95, 128.4 , 132.85, 137.3 , 141.75,\n",
       "        146.2 , 150.65, 155.1 , 159.55, 164.  ]),\n",
       " <BarContainer object of 20 artists>)"
      ]
     },
     "execution_count": 11,
     "metadata": {},
     "output_type": "execute_result"
    },
    {
     "data": {
      "image/png": "[encoded data removed]",
      "text/plain": [
       "<Figure size 640x480 with 1 Axes>"
      ]
     },
     "metadata": {},
     "output_type": "display_data"
    }
   ],
   "source": [
    "plt.hist(tra_df['new_angle'].values, bins=20)"
   ]
  },
  {
   "cell_type": "code",
   "execution_count": 12,
   "metadata": {},
   "outputs": [
    {
     "data": {
      "text/plain": [
       "(array([ 1.,  0.,  0.,  0.,  0.,  3.,  2.,  1.,  4.,  7.,  8.,  3.,  6.,\n",
       "         4.,  2.,  2.,  1.,  2., 11.,  7.]),\n",
       " array([ 82.  ,  84.55,  87.1 ,  89.65,  92.2 ,  94.75,  97.3 ,  99.85,\n",
       "        102.4 , 104.95, 107.5 , 110.05, 112.6 , 115.15, 117.7 , 120.25,\n",
       "        122.8 , 125.35, 127.9 , 130.45, 133.  ]),\n",
       " <BarContainer object of 20 artists>)"
      ]
     },
     "execution_count": 12,
     "metadata": {},
     "output_type": "execute_result"
    },
    {
     "data": {
      "image/png": "[encoded data removed]",
      "text/plain": [
       "<Figure size 640x480 with 1 Axes>"
      ]
     },
     "metadata": {},
     "output_type": "display_data"
    }
   ],
   "source": [
    "plt.hist(val_df['new_angle'].values, bins=20)"
   ]
  },
  {
   "cell_type": "code",
   "execution_count": 13,
   "metadata": {},
   "outputs": [
    {
     "data": {
      "text/plain": [
       "(array([4., 3., 3., 3., 5., 4., 3., 0., 2., 6., 6., 5., 8., 2., 2., 2., 2.,\n",
       "        1., 1., 1.]),\n",
       " array([ 93.  ,  96.25,  99.5 , 102.75, 106.  , 109.25, 112.5 , 115.75,\n",
       "        119.  , 122.25, 125.5 , 128.75, 132.  , 135.25, 138.5 , 141.75,\n",
       "        145.  , 148.25, 151.5 , 154.75, 158.  ]),\n",
       " <BarContainer object of 20 artists>)"
      ]
     },
     "execution_count": 13,
     "metadata": {},
     "output_type": "execute_result"
    },
    {
     "data": {
      "image/png": "[encoded data removed]",
      "text/plain": [
       "<Figure size 640x480 with 1 Axes>"
      ]
     },
     "metadata": {},
     "output_type": "display_data"
    }
   ],
   "source": [
    "plt.hist(tes_df['new_angle'].values, bins=20)"
   ]
  },
  {
   "cell_type": "code",
   "execution_count": null,
   "metadata": {},
   "outputs": [],
   "source": []
  },
  {
   "cell_type": "code",
   "execution_count": null,
   "metadata": {},
   "outputs": [],
   "source": []
  }
 ],
 "metadata": {
  "kernelspec": {
   "display_name": "Python 3.9.15 ('myenv')",
   "language": "python",
   "name": "python3"
  },
  "language_info": {
   "codemirror_mode": {
    "name": "ipython",
    "version": 3
   },
   "file_extension": ".py",
   "mimetype": "text/x-python",
   "name": "python",
   "nbconvert_exporter": "python",
   "pygments_lexer": "ipython3",
   "version": "3.9.15 (main, Nov  4 2022, 16:13:54) \n[GCC 11.2.0]"
  },
  "orig_nbformat": 4,
  "vscode": {
   "interpreter": {
    "hash": "e60de47cb3857121f9ee587fa65ec3e886692403f703077c3e6fd7aef069122f"
   }
  }
 },
 "nbformat": 4,
 "nbformat_minor": 2
}
