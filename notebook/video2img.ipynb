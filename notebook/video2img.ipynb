{
 "cells": [
  {
   "cell_type": "code",
   "execution_count": 1,
   "metadata": {},
   "outputs": [],
   "source": [
    "import cv2 as cv\n",
    "import numpy as np\n",
    "from matplotlib import pyplot as plt"
   ]
  },
  {
   "cell_type": "code",
   "execution_count": 2,
   "metadata": {},
   "outputs": [
    {
     "name": "stdout",
     "output_type": "stream",
     "text": [
      "54000 30.0 1800.0\n"
     ]
    }
   ],
   "source": [
    "vid  = 'k'\n",
    "path = \"../../../video/ERCP_video/video/{}.mp4\".format(vid)\n",
    "cap  = cv.VideoCapture(path)\n",
    "\n",
    "total_frames = int(cap.get(cv.CAP_PROP_FRAME_COUNT))\n",
    "fps          = cap.get(cv.CAP_PROP_FPS)\n",
    "duration     = total_frames / fps\n",
    "print(total_frames, fps, duration)"
   ]
  },
  {
   "cell_type": "code",
   "execution_count": 3,
   "metadata": {},
   "outputs": [
    {
     "name": "stdout",
     "output_type": "stream",
     "text": [
      "interval=  358\n"
     ]
    }
   ],
   "source": [
    "# # start time\n",
    "# min  = 1\n",
    "# sec  = 53\n",
    "# msec = 830\n",
    "# starttime = min*60*1000 + sec*1000 + msec\n",
    "\n",
    "# # end time\n",
    "# min  = 7\n",
    "# sec  = 51\n",
    "# msec = 830\n",
    "# endtime = min*60*1000 + sec*1000 + msec\n",
    "\n",
    "# # interval(sec)\n",
    "# interval = int((endtime-starttime)/1000)\n",
    "# print('interval= ', interval)\n",
    "\n",
    "# while cap.isOpened():\n",
    "#     for i in range(0,interval + 1, 3):                            # 間隔單位:秒\n",
    "#         cap.set(cv.CAP_PROP_POS_MSEC, starttime + 1000*i)        # 設定影片開始時間 & 截圖間隔時間 \n",
    "#         success, image = cap.read()\n",
    "#         cv.imwrite('../dataset/raw_img/{}_{}.png'.format(vid, int(i/3)), image)\n",
    "#     break\n",
    "# cap.release()"
   ]
  },
  {
   "cell_type": "code",
   "execution_count": 6,
   "metadata": {},
   "outputs": [
    {
     "name": "stdout",
     "output_type": "stream",
     "text": [
      "interval=  58000\n"
     ]
    }
   ],
   "source": [
    "# start time\n",
    "min  = 3\n",
    "sec  = 2\n",
    "msec = 0\n",
    "starttime = min*60*1000 + sec*1000 + msec\n",
    "\n",
    "# end time\n",
    "min  = 4\n",
    "sec  = 0\n",
    "msec = 0\n",
    "endtime = min*60*1000 + sec*1000 + msec\n",
    "\n",
    "# interval(msec)\n",
    "interval = int((endtime-starttime))\n",
    "print('interval= ', interval)\n",
    "\n",
    "# while cap.isOpened():\n",
    "#     for i in range(0, interval + 1):                          # 間隔單位:毫秒\n",
    "#         cap.set(cv.CAP_PROP_POS_MSEC, starttime + i)        # 設定影片開始時間 & 截圖間隔時間 \n",
    "#         success, image = cap.read()\n",
    "#         cv.imwrite('../../img/temp_raw_1s/{}_{}.png'.format(vid, i), image)\n",
    "#     break\n",
    "# cap.release()"
   ]
  },
  {
   "cell_type": "code",
   "execution_count": 7,
   "metadata": {},
   "outputs": [
    {
     "data": {
      "text/plain": [
       "182000"
      ]
     },
     "execution_count": 7,
     "metadata": {},
     "output_type": "execute_result"
    }
   ],
   "source": [
    "starttime\n",
    "\n"
   ]
  },
  {
   "cell_type": "code",
   "execution_count": 8,
   "metadata": {},
   "outputs": [
    {
     "data": {
      "text/plain": [
       "240000"
      ]
     },
     "execution_count": 8,
     "metadata": {},
     "output_type": "execute_result"
    }
   ],
   "source": [
    "endtime"
   ]
  },
  {
   "cell_type": "code",
   "execution_count": null,
   "metadata": {},
   "outputs": [],
   "source": []
  }
 ],
 "metadata": {
  "kernelspec": {
   "display_name": "Python 3.9.15 ('myenv')",
   "language": "python",
   "name": "python3"
  },
  "language_info": {
   "codemirror_mode": {
    "name": "ipython",
    "version": 3
   },
   "file_extension": ".py",
   "mimetype": "text/x-python",
   "name": "python",
   "nbconvert_exporter": "python",
   "pygments_lexer": "ipython3",
   "version": "3.9.15"
  },
  "orig_nbformat": 4,
  "vscode": {
   "interpreter": {
    "hash": "e60de47cb3857121f9ee587fa65ec3e886692403f703077c3e6fd7aef069122f"
   }
  }
 },
 "nbformat": 4,
 "nbformat_minor": 2
}
