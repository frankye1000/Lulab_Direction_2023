{
 "cells": [
  {
   "cell_type": "code",
   "execution_count": null,
   "metadata": {},
   "outputs": [],
   "source": [
    "import cv2 as cv\n",
    "import numpy as np\n",
    "import pandas as pd\n",
    "from glob import glob\n",
    "from sklearn.utils import shuffle\n",
    "\n",
    "from config import efficientNet_config\n",
    "from models import efficientNetV2B0_model, efficientNetV2B3_model, vgg16_model, resnet50_model, mobilenetv2_model,frank_model\n",
    "from utils import plt_heatmap, plt_roccurve\n",
    "\n",
    "from sklearn.metrics import confusion_matrix\n",
    "from sklearn.metrics import multilabel_confusion_matrix\n",
    "from sklearn.metrics import roc_curve, auc, accuracy_score, f1_score\n",
    "from sklearn.preprocessing import OneHotEncoder\n",
    "\n",
    "import os\n",
    "# 使用第一張 GPU 卡\n",
    "os.environ[\"CUDA_VISIBLE_DEVICES\"] = \"1\""
   ]
  },
  {
   "cell_type": "code",
   "execution_count": null,
   "metadata": {},
   "outputs": [],
   "source": [
    "tes_df = pd.read_csv(\"../dataset/test_dataset/direc/new_class.csv\", index_col=False)\n",
    "cls    = len(set(tes_df['new_class'].values))"
   ]
  },
  {
   "cell_type": "markdown",
   "metadata": {},
   "source": [
    "# 載入模型"
   ]
  },
  {
   "cell_type": "code",
   "execution_count": null,
   "metadata": {},
   "outputs": [],
   "source": [
    "model = efficientNetV2B0_model(cls)  # 類別\n",
    "model.load_weights('../model/202211/20221130.weights')"
   ]
  },
  {
   "cell_type": "code",
   "execution_count": null,
   "metadata": {},
   "outputs": [],
   "source": [
    "height  = efficientNet_config['height_B0']\n",
    "width   = efficientNet_config['width_B0']"
   ]
  },
  {
   "cell_type": "code",
   "execution_count": null,
   "metadata": {},
   "outputs": [],
   "source": [
    "# label\n",
    "# tes_df = pd.read_csv(\"../dataset/test_dataset/direc/test_new_class_20221129.csv\", index_col=False)\n",
    "\n",
    "tes_img_labels = tes_df['new_class'].values\n",
    "print(\"真值\")\n",
    "print(tes_img_labels)\n",
    "\n",
    "\n",
    "# label one hot\n",
    "# tes_img_labels_onehot  = OneHotEncoder().fit_transform(tes_img_labels).toarray()"
   ]
  },
  {
   "cell_type": "code",
   "execution_count": null,
   "metadata": {},
   "outputs": [],
   "source": [
    "tes_img_name_list = tes_df['img_name'].values.tolist()\n",
    "print('test number = '  , len(tes_img_name_list))"
   ]
  },
  {
   "cell_type": "code",
   "execution_count": null,
   "metadata": {},
   "outputs": [],
   "source": [
    "# image array\n",
    "tes_dir = '../dataset/test_dataset/img/CropSmooth/'\n",
    "# npy\n",
    "# tes_dir = '../dataset/test_dataset/img/Crop_Edge/'\n",
    "\n",
    "tes_img_arrays = []\n",
    "## test image array\n",
    "for img_name in tes_img_name_list:\n",
    "    # image\n",
    "    img_array = cv.imread(tes_dir+img_name)\n",
    "    img_array = cv.resize(img_array,(height,width))     # resize to (224,224)\n",
    "    tes_img_arrays.append(img_array)\n",
    "\n",
    "    # npy\n",
    "    # img_array = np.load(tes_dir + img_name.split(\".\")[0] + \".npy\")\n",
    "    # img_array = cv.resize(img_array,(height,width))\n",
    "    # tes_img_arrays.append(img_array)\n"
   ]
  },
  {
   "cell_type": "code",
   "execution_count": null,
   "metadata": {},
   "outputs": [],
   "source": [
    "tes_img_arrays = np.array(tes_img_arrays)\n",
    "# tes_img_arrays = np.repeat(tes_img_arrays[..., np.newaxis], 3, -1)   # 灰階轉RGB"
   ]
  },
  {
   "cell_type": "code",
   "execution_count": null,
   "metadata": {},
   "outputs": [],
   "source": [
    "print('測試集維度= ',tes_img_arrays.shape)\n",
    "print('測試集label維度= ',tes_img_labels.shape)"
   ]
  },
  {
   "cell_type": "code",
   "execution_count": null,
   "metadata": {},
   "outputs": [],
   "source": []
  },
  {
   "cell_type": "markdown",
   "metadata": {},
   "source": [
    "# 打亂"
   ]
  },
  {
   "cell_type": "code",
   "execution_count": null,
   "metadata": {},
   "outputs": [],
   "source": [
    "# tes_img_arrays, tes_img_labels = shuffle(tes_img_arrays, tes_img_labels)"
   ]
  },
  {
   "cell_type": "code",
   "execution_count": null,
   "metadata": {},
   "outputs": [],
   "source": [
    "# tes_img_arrays.shape"
   ]
  },
  {
   "cell_type": "markdown",
   "metadata": {},
   "source": [
    "# 預測"
   ]
  },
  {
   "cell_type": "code",
   "execution_count": null,
   "metadata": {},
   "outputs": [],
   "source": [
    "pred_result = model.predict(tes_img_arrays)"
   ]
  },
  {
   "cell_type": "code",
   "execution_count": null,
   "metadata": {},
   "outputs": [],
   "source": []
  },
  {
   "cell_type": "code",
   "execution_count": null,
   "metadata": {},
   "outputs": [],
   "source": [
    "pred_result_1d = []\n",
    "for p in pred_result:\n",
    "    p_cls = np.argmax(p)\n",
    "    # print(p_cls, p)\n",
    "    pred_result_1d.append(p_cls)\n",
    "\n",
    "for i in range(len(tes_img_labels)):\n",
    "    print('t=', tes_img_labels[i], 'p=',pred_result_1d[i])"
   ]
  },
  {
   "cell_type": "markdown",
   "metadata": {},
   "source": [
    "# 結果"
   ]
  },
  {
   "cell_type": "code",
   "execution_count": null,
   "metadata": {},
   "outputs": [],
   "source": [
    "# fpr, tpr, thresholds = roc_curve(tes_img_labels, pred_result, pos_label=1) \n",
    "# roc_auc = auc(fpr, tpr)\n",
    "# plt_roccurve(fpr,tpr,roc_auc)"
   ]
  },
  {
   "cell_type": "code",
   "execution_count": null,
   "metadata": {},
   "outputs": [],
   "source": [
    "import seaborn as sns\n",
    "import matplotlib.pyplot as plt\n",
    "def plt_heatmap_3c(con_ma):\n",
    "    '''\n",
    "    :input: con_ma:3*3\n",
    "    '''\n",
    "    sns.set(font_scale=2)\n",
    "    f,ax=plt.subplots()\n",
    "    sns.heatmap(con_ma, annot=True, ax=ax, fmt='d', cmap='YlGnBu', vmax=25, vmin=0) # 畫熱力圖\n",
    "    ax.set_title('confusion matrix') # 標題\n",
    "    ax.set_xlabel('predict')         # x軸\n",
    "    ax.set_ylabel('true')            # y軸\n",
    "    # ax.xaxis.set_ticklabels(['0', '1', '2'])\n",
    "    # ax.yaxis.set_ticklabels(['0', '1', '2'])\n",
    "    plt.show()"
   ]
  },
  {
   "cell_type": "code",
   "execution_count": null,
   "metadata": {},
   "outputs": [],
   "source": [
    "cm = confusion_matrix(tes_img_labels, pred_result_1d)#.ravel()\n",
    "\n",
    "\n",
    "cm_df = pd.DataFrame(cm,)\n",
    "cm_df\n",
    "plt_heatmap_3c(cm_df)\n",
    "\n",
    "# sensitivity = round(tp / (tp+fn), 4)\n",
    "# specificity = round(tn / (tn+fp), 4)\n",
    "# balanced_acc= round((sensitivity+specificity)/2, 4)\n",
    "# precision   = round(tp / (tp+fp), 4)\n",
    "# f1score     = round(2/((1/precision)+(1/sensitivity)), 4)\n",
    "# accuracy    = round((tp+tn)/(tn+fp+fn+tp), 4)\n",
    "\n",
    "# print('Sensitivity= ',sensitivity)\n",
    "# print('Specificity= ',specificity)\n",
    "# print('Balanced_acc= ',balanced_acc)\n",
    "# print('Precision= ', precision)\n",
    "# print('f1score= ', f1score)\n",
    "# print('Accuracy= ',accuracy)"
   ]
  },
  {
   "cell_type": "code",
   "execution_count": null,
   "metadata": {},
   "outputs": [],
   "source": [
    "accuracy_score(tes_img_labels, pred_result_1d)"
   ]
  },
  {
   "cell_type": "code",
   "execution_count": null,
   "metadata": {},
   "outputs": [],
   "source": [
    "from sklearn.metrics import multilabel_confusion_matrix\n",
    "from sklearn.metrics import roc_curve, auc, accuracy_score, f1_score"
   ]
  },
  {
   "cell_type": "code",
   "execution_count": null,
   "metadata": {},
   "outputs": [],
   "source": [
    "CM3 = multilabel_confusion_matrix(tes_img_labels, pred_result_1d,labels=[0, 1, 2])"
   ]
  },
  {
   "cell_type": "code",
   "execution_count": null,
   "metadata": {},
   "outputs": [],
   "source": [
    "for CM in CM3:\n",
    "    print(CM)"
   ]
  },
  {
   "cell_type": "code",
   "execution_count": null,
   "metadata": {},
   "outputs": [],
   "source": [
    "print('MACRO F1 SCORE =', f1_score(tes_img_labels, pred_result_1d, average='macro'))\n",
    "print('MICRO F1 SCORE =', f1_score(tes_img_labels, pred_result_1d, average='micro'))"
   ]
  },
  {
   "cell_type": "code",
   "execution_count": null,
   "metadata": {},
   "outputs": [],
   "source": [
    "from sklearn.metrics import precision_recall_fscore_support\n",
    "res = []\n",
    "for l in [0,1,2]:\n",
    "     prec,recall,_,_ = precision_recall_fscore_support(np.array(tes_img_labels)==l,\n",
    "                                                       np.array(pred_result_1d)==l,\n",
    "                                                       pos_label=True,average=None)\n",
    "     res.append([l, recall[0], recall[1]])\n",
    "\n",
    "pd.DataFrame(res,columns = ['class','sensitivity','specificity'])"
   ]
  },
  {
   "cell_type": "code",
   "execution_count": null,
   "metadata": {},
   "outputs": [],
   "source": [
    "from sklearn.metrics import classification_report"
   ]
  },
  {
   "cell_type": "code",
   "execution_count": null,
   "metadata": {},
   "outputs": [],
   "source": [
    "print(classification_report(tes_img_labels, pred_result_1d, labels=[0, 1, 2]))"
   ]
  },
  {
   "cell_type": "code",
   "execution_count": null,
   "metadata": {},
   "outputs": [],
   "source": []
  }
 ],
 "metadata": {
  "kernelspec": {
   "display_name": "Python 3",
   "language": "python",
   "name": "python3"
  },
  "language_info": {
   "codemirror_mode": {
    "name": "ipython",
    "version": 3
   },
   "file_extension": ".py",
   "mimetype": "text/x-python",
   "name": "python",
   "nbconvert_exporter": "python",
   "pygments_lexer": "ipython3",
   "version": "3.10.6"
  },
  "orig_nbformat": 4,
  "vscode": {
   "interpreter": {
    "hash": "31f2aee4e71d21fbe5cf8b01ff0e069b9275f58929596ceb00d14d90e3e16cd6"
   }
  }
 },
 "nbformat": 4,
 "nbformat_minor": 2
}
