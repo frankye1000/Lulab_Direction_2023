{
 "cells": [
  {
   "cell_type": "code",
   "execution_count": 1,
   "metadata": {},
   "outputs": [],
   "source": [
    "import os\n",
    "import re\n",
    "import cv2\n",
    "from glob import glob\n",
    "import matplotlib.pyplot as plt"
   ]
  },
  {
   "cell_type": "code",
   "execution_count": 10,
   "metadata": {},
   "outputs": [],
   "source": [
    "img_paths = glob(\"../dataset/test_img/*.jpg\")"
   ]
  },
  {
   "cell_type": "code",
   "execution_count": 11,
   "metadata": {},
   "outputs": [
    {
     "data": {
      "text/plain": [
       "4"
      ]
     },
     "execution_count": 11,
     "metadata": {},
     "output_type": "execute_result"
    }
   ],
   "source": [
    "len(img_paths)"
   ]
  },
  {
   "cell_type": "code",
   "execution_count": 19,
   "metadata": {},
   "outputs": [],
   "source": [
    "def get_img_info(path):\n",
    "    '''\n",
    "    '10'->'000010'\n",
    "    '''\n",
    "    P = re.findall('(\\w+)', path)\n",
    "    print(P)\n",
    "    img_index = P[2].zfill(6)\n",
    "    return img_index"
   ]
  },
  {
   "cell_type": "code",
   "execution_count": 20,
   "metadata": {},
   "outputs": [
    {
     "name": "stdout",
     "output_type": "stream",
     "text": [
      "['dataset', 'test_img', '0140', 'jpg']\n"
     ]
    },
    {
     "data": {
      "text/plain": [
       "'000140'"
      ]
     },
     "execution_count": 20,
     "metadata": {},
     "output_type": "execute_result"
    }
   ],
   "source": [
    "get_img_info(img_paths[0])"
   ]
  },
  {
   "cell_type": "code",
   "execution_count": 22,
   "metadata": {},
   "outputs": [
    {
     "name": "stdout",
     "output_type": "stream",
     "text": [
      "['dataset', 'test_img', '0140', 'jpg']\n",
      "['dataset', 'test_img', '0141', 'jpg']\n",
      "['dataset', 'test_img', '0142', 'jpg']\n",
      "['dataset', 'test_img', '0143', 'jpg']\n"
     ]
    }
   ],
   "source": [
    "x1 = 160\n",
    "x2 = 920\n",
    "y1 = 1020\n",
    "y2 = 1780\n",
    "\n",
    "for i, path in enumerate(img_paths):\n",
    "    img_array = cv2.imread(path)[x1:x2, y1:y2]\n",
    "    img_index = get_img_info(path)\n",
    "    cv2.imwrite('../dataset/test_img/{}.png'.format(img_index), img_array)"
   ]
  },
  {
   "cell_type": "code",
   "execution_count": null,
   "metadata": {},
   "outputs": [],
   "source": []
  }
 ],
 "metadata": {
  "interpreter": {
   "hash": "3d0b3230cba0d6cbfd99760ee6674b1181db07b2579171d1aa41779f5a406caf"
  },
  "kernelspec": {
   "display_name": "Python 3.9.7 ('frank_env')",
   "language": "python",
   "name": "python3"
  },
  "language_info": {
   "codemirror_mode": {
    "name": "ipython",
    "version": 3
   },
   "file_extension": ".py",
   "mimetype": "text/x-python",
   "name": "python",
   "nbconvert_exporter": "python",
   "pygments_lexer": "ipython3",
   "version": "3.9.7"
  },
  "orig_nbformat": 4
 },
 "nbformat": 4,
 "nbformat_minor": 2
}
