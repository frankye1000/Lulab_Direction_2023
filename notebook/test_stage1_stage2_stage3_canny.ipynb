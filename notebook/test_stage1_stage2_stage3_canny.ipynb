{
 "cells": [
  {
   "cell_type": "code",
   "execution_count": null,
   "metadata": {},
   "outputs": [],
   "source": [
    "import math\n",
    "import cv2 as cv\n",
    "import numpy as np\n",
    "import pandas as pd\n",
    "from PIL import Image\n",
    "from glob import glob\n",
    "from matplotlib import pyplot as plt\n",
    "from matplotlib.patches import Ellipse"
   ]
  },
  {
   "cell_type": "code",
   "execution_count": null,
   "metadata": {},
   "outputs": [],
   "source": [
    "def img_precessing(img, medianblur_kernel=21, canny_threshold1=5, canny_threshold2=40):\n",
    "    img_gray = cv.cvtColor(img, cv.COLOR_BGR2GRAY)                     # 轉成灰階\n",
    "    img_blur = cv.medianBlur(img_gray, medianblur_kernel)              # median blur \n",
    "    # img_blur = img_gray                                                # no median blur\n",
    "    img_edges= cv.Canny(img_blur, canny_threshold1, canny_threshold2)  # canny\n",
    "\n",
    "    return img_gray, img_blur, img_edges"
   ]
  },
  {
   "cell_type": "code",
   "execution_count": null,
   "metadata": {},
   "outputs": [],
   "source": [
    "def Get_canny_angle(img, medianblur_kernel=21, canny_threshold1=5, canny_threshold2=40):\n",
    "    canny_pred_angle=[]\n",
    "    img_gray, blur, edges = img_precessing(img, medianblur_kernel, canny_threshold1, canny_threshold2)\n",
    "    ###############\n",
    "    cnt, hierarchy = cv.findContours(edges, cv.RETR_EXTERNAL, cv.CHAIN_APPROX_SIMPLE)\n",
    "\n",
    "    '''找全部的輪廓出來畫'''\n",
    "    allcnt=[]\n",
    "    for c in cnt:\n",
    "        allcnt.extend(c.tolist())\n",
    "    allcnt = np.array(allcnt)\n",
    "\n",
    "    '''有可能找不到輪廓!!'''\n",
    "    if len(allcnt) != 0:\n",
    "        ''' 找出橢圓 '''\n",
    "        img_elli = img.copy()\n",
    "        ellipse  = cv.fitEllipseAMS(allcnt)  # fit出橢圓\n",
    "        # cv.ellipse(img_elli, ellipse, (0,0,255), 3)\n",
    "        \n",
    "        ####### 找出角度(11點鐘方向)\n",
    "        img_11=img.copy()\n",
    "        (xc, yc), (width, height), angle = ellipse     # (xc,yc):橢圓中心點 (width, height):橢圓寬長\n",
    "        # print(\"最原始angle= \", int(angle))\n",
    "        \n",
    "        if angle>90:  # 一開始的angle是比較長短邊的角度\n",
    "            normal_angle = 360-angle-60\n",
    "            # print('normal angle=', normal_angle)\n",
    "            \n",
    "            ######################################## 處理特殊角度(150~180) ###############################################\n",
    "            if normal_angle > 150 and normal_angle <=180:   \n",
    "                normal_angle = normal_angle - 30\n",
    "                canny_pred_angle.append(normal_angle)\n",
    "                # rmajor = height / 2\n",
    "                # xtop0  = xc + math.cos(math.radians(angle+120)) * rmajor\n",
    "                # ytop0  = yc + math.sin(math.radians(angle+120)) * rmajor\n",
    "                # rmajor = height / 2\n",
    "                # xtop11 = xc + math.cos(math.radians(angle+90)) * rmajor\n",
    "                # ytop11 = yc + math.sin(math.radians(angle+90)) * rmajor\n",
    "                # rminor = width / 2\n",
    "                # xtop = xc + math.cos(math.radians(angle+30)) * rminor\n",
    "                # ytop = yc + math.sin(math.radians(angle+30)) * rminor\n",
    "                # ellipse_info = Ellipse(xy=(xc, yc), width=width, height=height, angle=angle+30, edgecolor='b', fc='None', lw=2, linestyle='dotted')\n",
    "            ######################################## 處理特殊角度(180~) ################################################\n",
    "            elif normal_angle > 180:                         \n",
    "                normal_angle = normal_angle - 60\n",
    "                canny_pred_angle.append(normal_angle)\n",
    "                # rmajor = height / 2\n",
    "                # xtop0  = xc + math.cos(math.radians(angle+150)) * rmajor\n",
    "                # ytop0  = yc + math.sin(math.radians(angle+150)) * rmajor\n",
    "                # rmajor = height / 2\n",
    "                # xtop11 = xc + math.cos(math.radians(angle+120)) * rmajor\n",
    "                # ytop11 = yc + math.sin(math.radians(angle+120)) * rmajor\n",
    "                # rminor = width / 2\n",
    "                # xtop = xc + math.cos(math.radians(angle+60)) * rminor\n",
    "                # ytop = yc + math.sin(math.radians(angle+60)) * rminor\n",
    "                # ellipse_info = Ellipse(xy=(xc, yc), width=width, height=height, angle=angle+60, edgecolor='b', fc='None', lw=2, linestyle='dotted')\n",
    "            ######################################## 正常角度(0~150) ################################################\n",
    "            else:\n",
    "                canny_pred_angle.append(normal_angle)\n",
    "                # rmajor = height / 2\n",
    "                # xtop0  = xc + math.cos(math.radians(angle+90)) * rmajor\n",
    "                # ytop0  = yc + math.sin(math.radians(angle+90)) * rmajor\n",
    "                # rmajor = height / 2\n",
    "                # xtop11 = xc + math.cos(math.radians(angle+60)) * rmajor\n",
    "                # ytop11 = yc + math.sin(math.radians(angle+60)) * rmajor\n",
    "                # rminor = width / 2\n",
    "                # xtop = xc + math.cos(math.radians(angle)) * rminor\n",
    "                # ytop = yc + math.sin(math.radians(angle)) * rminor\n",
    "                # ellipse_info = Ellipse(xy=(xc, yc), width=width, height=height, angle=angle, edgecolor='b', fc='None', lw=2, linestyle='dotted')\n",
    "\n",
    "            # print('new normal angle=', normal_angle)\n",
    "            # cv.line(img_11, (int(xtop0), int(ytop0)), (int(xc), int(yc)), (0, 0, 255), 1)\n",
    "            # cv.line(img_11, (int(xtop11), int(ytop11)), (int(xc), int(yc)), (128, 0, 0), 3)\n",
    "            # cv.line(img_11, (int(xtop), int(ytop)), (int(xc), int(yc)), (0, 0, 255), 1)\n",
    "            \n",
    "\n",
    "\n",
    "        if angle<90:\n",
    "            normal_angle = 180-angle-60\n",
    "            # print('normal angle=', normal_angle)\n",
    "            \n",
    "\n",
    "            ######################################## 處理特殊角度(0~30) ###############################################  \n",
    "            if normal_angle > 0 and normal_angle <= 30:   \n",
    "                normal_angle = normal_angle + 60                            ## !!!!!!!!!!!!!\n",
    "                canny_pred_angle.append(normal_angle)\n",
    "                # rmajor = height / 2\n",
    "                # xtop0  = xc + math.cos(math.radians(angle+210)) * rmajor\n",
    "                # ytop0  = yc + math.sin(math.radians(angle+210)) * rmajor\n",
    "                # rmajor = height / 2\n",
    "                # xtop11 = xc + math.cos(math.radians(angle+180)) * rmajor\n",
    "                # ytop11 = yc + math.sin(math.radians(angle+180)) * rmajor\n",
    "                # rminor = width / 2\n",
    "                # xtop = xc + math.cos(math.radians(angle+120)) * rminor\n",
    "                # ytop = yc + math.sin(math.radians(angle+120)) * rminor\n",
    "                # ellipse_info = Ellipse(xy=(xc, yc), width=width, height=height, angle=angle+120, edgecolor='b', fc='None', lw=2, linestyle='dotted')\n",
    "            ######################################## 處理特殊角度(30~60) ###############################################\n",
    "            elif normal_angle > 30 and normal_angle <= 60:   \n",
    "                normal_angle = normal_angle + 30                            ## !!!!!!!!!!!!!!\n",
    "                canny_pred_angle.append(normal_angle)\n",
    "                # rmajor = height / 2\n",
    "                # xtop0  = xc + math.cos(math.radians(angle+240)) * rmajor\n",
    "                # ytop0  = yc + math.sin(math.radians(angle+240)) * rmajor\n",
    "                # rmajor = height / 2\n",
    "                # xtop11 = xc + math.cos(math.radians(angle+210)) * rmajor\n",
    "                # ytop11 = yc + math.sin(math.radians(angle+210)) * rmajor\n",
    "                # rminor = width / 2\n",
    "                # xtop = xc + math.cos(math.radians(angle+150)) * rminor\n",
    "                # ytop = yc + math.sin(math.radians(angle+150)) * rminor\n",
    "                # ellipse_info = Ellipse(xy=(xc, yc), width=width, height=height, angle=angle+150, edgecolor='b', fc='None', lw=2, linestyle='dotted')\n",
    "            ######################################## 正常角度(0~150) ################################################\n",
    "            else:\n",
    "                canny_pred_angle.append(normal_angle)\n",
    "                # rmajor = height / 2\n",
    "                # xtop0  = xc + math.cos(math.radians(angle+270)) * rmajor\n",
    "                # ytop0  = yc + math.sin(math.radians(angle+270)) * rmajor\n",
    "                # rmajor = height / 2\n",
    "                # xtop11 = xc + math.cos(math.radians(angle+240)) * rmajor\n",
    "                # ytop11 = yc + math.sin(math.radians(angle+240)) * rmajor\n",
    "                # rminor = width / 2\n",
    "                # xtop = xc + math.cos(math.radians(angle+180)) * rminor\n",
    "                # ytop = yc + math.sin(math.radians(angle+180)) * rminor\n",
    "                # ellipse_info = Ellipse(xy=(xc, yc), width=width, height=height, angle=angle+180, edgecolor='b', fc='None', lw=2, linestyle='dotted')\n",
    "            \n",
    "            # print('new normal angle=', normal_angle)\n",
    "            # cv.line(img_11, (int(xtop0), int(ytop0)), (int(xc), int(yc)), (0, 0, 255), 1)\n",
    "            # cv.line(img_11, (int(xtop11), int(ytop11)), (int(xc), int(yc)), (128, 0, 0), 3)\n",
    "            # cv.line(img_11, (int(xtop), int(ytop)), (int(xc), int(yc)), (0, 0, 255), 1)\n",
    "\n",
    "        \n",
    "        ################# plot img\n",
    "        # plt.figure()\n",
    "        # f, axarr = plt.subplots(1, 5,figsize=(20,8)) \n",
    "        # axarr[0].imshow(cv.cvtColor(img, cv.COLOR_BGR2RGB))\n",
    "        # axarr[1].imshow(cv.cvtColor(img_gray, cv.COLOR_BGR2RGB))\n",
    "        # axarr[2].imshow(cv.cvtColor(blur, cv.COLOR_BGR2RGB))\n",
    "        # axarr[3].imshow(cv.cvtColor(edges, cv.COLOR_BGR2RGB))\n",
    "        # axarr[4].imshow(cv.cvtColor(img_11, cv.COLOR_BGR2RGB))\n",
    "        # plt.show()\n",
    "        ##################### save img\n",
    "        # plt.imsave(\"../dataset/training_dataset/img/train/Crop_Gray/{}\".format(img_name), cv.cvtColor(img_gray, cv.COLOR_BGR2RGB))       # !!!!!!!!!!!!\n",
    "        # plt.imsave(\"../dataset/training_dataset/img/train/Crop_MedianBlur/{}\".format(img_name), cv.cvtColor(blur, cv.COLOR_BGR2RGB))     # !!!!!!!!!!!!\n",
    "        # plt.imsave(\"../dataset/training_dataset/img/train/Crop_CannyEdge/{}\".format(img_name), cv.cvtColor(edges, cv.COLOR_BGR2RGB))     # !!!!!!!!!!!!\n",
    "        # plt.imsave(\"../dataset/result_img/canny_traindata_direction_result/canny_{}\".format(img_name), cv.cvtColor(img_11, cv.COLOR_BGR2RGB))  # !!!!!!!!!!!!\n",
    "\n",
    "        # plt.figure()\n",
    "        # f, ax = plt.subplots(figsize=(3,4)) \n",
    "        # ax.add_artist(ellipse_info)  # 橢圓\n",
    "        # ax.set_axis_off()\n",
    "        # plt.imshow(cv.cvtColor(img, cv.COLOR_BGR2RGB))\n",
    "        # plt.savefig(\"../dataset/result_img/canny_traindata_ellipse_result/ellipse_{}\".format(img_name),bbox_inches='tight', pad_inches=0)    # !!!!!!!!!!!!\n",
    "        # plt.close(f)\n",
    "\n",
    "    return canny_pred_angle"
   ]
  },
  {
   "cell_type": "code",
   "execution_count": null,
   "metadata": {},
   "outputs": [],
   "source": [
    "medianblur_kernel=9\n",
    "canny_threshold1 =5\n",
    "canny_threshold2 =35"
   ]
  },
  {
   "cell_type": "code",
   "execution_count": null,
   "metadata": {},
   "outputs": [],
   "source": [
    "# 測試集真值dataframe\n",
    "tes_df = pd.read_csv('../dataset_20230323/test_dataset/direc/true_angle_20230323.csv') \n",
    "# tes_df = pd.read_csv('../dataset/test_dataset/direc/old_angle_20221222.csv') \n",
    "# tes_df = pd.read_csv('../dataset/training_dataset/direc/train/old_angle_20221222.csv')\n",
    "# tes_df = pd.read_csv('../dataset/training_dataset/direc/validation/old_angle_20221222.csv')\n",
    "\n",
    "# 測試集uncrop image path\n",
    "tes_img_path = \"../../classification/dataset_186video_20230323/test/1/\"\n",
    "# tes_img_path = \"../dataset/test_dataset/img/unCrop/\"\n",
    "# tes_img_path = \"../dataset/training_dataset/img/train/unCrop/\"\n",
    "# tes_img_path = \"../dataset/training_dataset/img/validation/unCrop/\"\n",
    "\n",
    "# stage1 & stage2 結果\n",
    "stage1Andstage2_result_df = pd.read_csv('../../yolov4_keras/result_df/test_stage1Andstage2_result_smooth_20230331.csv')  \n",
    "# stage1Andstage2_result_df = pd.read_csv('../../yolov4_keras/result_df/test_stage1Andstage2_result_20230331.csv') \n",
    "# stage1Andstage2_result_df = pd.read_csv('../../yolov4_keras/result_df/test_stage1Andstage2_result_nosmooth_20230331.csv')\n",
    "# stage1Andstage2_result_df = pd.read_csv('../../yolov4_keras/result_df/test_stage1Andstage2_result_nosmooth.csv')      # \n",
    "# stage1Andstage2_result_df = pd.read_csv('../../yolov4_keras/result_df/train_stage1Andstage2_result.csv')\n",
    "# stage1Andstage2_result_df = pd.read_csv('../../yolov4_keras/result_df/validation_stage1Andstage2_result.csv')\n",
    "# stage1Andstage2_result_df.head(8)\n",
    "\n",
    "\n",
    "# perfect [stage1 & stage2] 結果 \n",
    "perfect_stage1stage2_result_df = pd.read_csv(\"../../yolov4_keras/result_df/test_perfectstage1_stage2_result_20230331.csv\")\n",
    "\n",
    "\n",
    "# stage 3 左上 & 右下\n",
    "stage3_updown_result_df = pd.read_pickle(\"../result/stage3_updown_pred_result_test_20230401.pickle\")\n",
    "\n",
    "\n",
    "# stage 3 左上 & 右下 All Img 此結果要用在要用在Old方法\n",
    "stage3_updown_AllImg_result_df = pd.read_pickle(\"../result/stage3_updown_pred_result_test_20230401_AllImg.pickle\")\n",
    "stage3_updown_AllImg_result_df"
   ]
  },
  {
   "cell_type": "code",
   "execution_count": null,
   "metadata": {},
   "outputs": [],
   "source": [
    "stage1Andstage2_result_df"
   ]
  },
  {
   "cell_type": "code",
   "execution_count": null,
   "metadata": {},
   "outputs": [],
   "source": []
  },
  {
   "attachments": {},
   "cell_type": "markdown",
   "metadata": {},
   "source": [
    "# Old\n",
    "# img -> stage 3\n",
    "img 不切割直接進去做影像處理 \n",
    "\n",
    "這邊要再訓練一個不做影像處理的判斷上下的分類模型!!!!!!!!!!!!!!!!!!!!!!!!!!!!!!!"
   ]
  },
  {
   "cell_type": "code",
   "execution_count": null,
   "metadata": {},
   "outputs": [],
   "source": [
    "row, col = tes_df.shape\n",
    "print(\" [perfect stage 1 & stage 2] = (row, col)\",(row,col))"
   ]
  },
  {
   "cell_type": "code",
   "execution_count": null,
   "metadata": {},
   "outputs": [],
   "source": [
    "angle_errors = 0\n",
    "perfect_TP = 0\n",
    "perfect_TN = 1494\n",
    "\n",
    "for r in range(row):         # row: 列數\n",
    "    test_img_name = tes_df.iloc[r:r+1]['imgname'][r]\n",
    "    test_true     = tes_df.iloc[r:r+1]['true_angle'][r]\n",
    "    \n",
    "    ## 這邊要判斷左上、右下正確與否\n",
    "    stage3_updown_AllImg_test_pred = int(stage3_updown_AllImg_result_df[stage3_updown_AllImg_result_df['test_name']==test_img_name]['stage3_updown_test_pred'])\n",
    "    if  stage3_updown_AllImg_test_pred == 0:  # 0:判斷影像為左上 1:右下\n",
    "        '''perfect TP'''\n",
    "        perfect_TP += 1\n",
    "        img  = Image.open(tes_img_path+test_img_name)  # read image\n",
    "        img  = np.array(img)\n",
    "\n",
    "        '''預測值&真值'''\n",
    "        canny_pred_angle = Get_canny_angle(img, medianblur_kernel=9, canny_threshold1=5, canny_threshold2=35)[0]\n",
    "        true_angle       = tes_df[tes_df['imgname']==test_img_name]['true_angle'].values[0]\n",
    "        angle_errors += abs(canny_pred_angle-true_angle)\n",
    "\n",
    "    else: # 方向判斷錯誤 perfect_TN+=1\n",
    "        perfect_TN+=1\n",
    "        '''預測值&真值'''\n",
    "        canny_pred_angle = Get_canny_angle(img, medianblur_kernel, canny_threshold1, canny_threshold2)[0]\n",
    "        canny_pred_angle += 180  # 角度會完全預測相反\n",
    "        true_angle       = tes_df[tes_df['imgname']==test_img_name]['true_angle'].values[0]\n",
    "        angle_errors += min(abs(360-(canny_pred_angle-true_angle)), abs(canny_pred_angle-true_angle))   # 選一個角度差比較小的當角度誤差\n",
    "    "
   ]
  },
  {
   "cell_type": "code",
   "execution_count": null,
   "metadata": {},
   "outputs": [],
   "source": [
    "print(\"perfect_TP={} ,perfect_TN={}\".format(perfect_TP ,perfect_TN))"
   ]
  },
  {
   "cell_type": "code",
   "execution_count": null,
   "metadata": {},
   "outputs": [],
   "source": [
    "#perfect_TP #1455\n",
    "angle_errors = angle_errors + perfect_TN*180   # 如果直接進stage3，沒有壺腹乳頭影像也會預測角度，所以要給180度懲罰\n",
    "\n",
    "perfect_mae  = angle_errors/(perfect_TP+perfect_TN)\n",
    "perfect_pmae = perfect_mae/180 * 100\n",
    "print('mae={}, pmae={}%'.format(round(perfect_mae,2), round(perfect_pmae, 2)))"
   ]
  },
  {
   "cell_type": "code",
   "execution_count": null,
   "metadata": {},
   "outputs": [],
   "source": []
  },
  {
   "attachments": {},
   "cell_type": "markdown",
   "metadata": {},
   "source": [
    "# Ideal\n",
    "# [perfect stage 1 & stage 2] & stage 3"
   ]
  },
  {
   "cell_type": "code",
   "execution_count": null,
   "metadata": {},
   "outputs": [],
   "source": [
    "row, col = tes_df.shape\n",
    "print(\" [perfect stage 1 & stage 2] = (row, col)\",(row,col))"
   ]
  },
  {
   "cell_type": "code",
   "execution_count": null,
   "metadata": {},
   "outputs": [],
   "source": [
    "angle_errors = 0\n",
    "perfect_TN = 1494\n",
    "perfect_TP = 0\n",
    "\n",
    "for r in range(row):         # row: 列數\n",
    "    test_img_name = tes_df.iloc[r:r+1]['imgname'][r]\n",
    "    test_true     = tes_df.iloc[r:r+1]['true_angle'][r]\n",
    "    true_bbox     = tes_df.iloc[r:r+1]['true_bbox'][r]\n",
    "\n",
    "    ## 這邊要判斷左上、右下正確與否\n",
    "    stage3_updown_test_pred = int(stage3_updown_result_df[stage3_updown_result_df['test_name']==test_img_name]['stage3_updown_test_pred'])\n",
    "    if  stage3_updown_test_pred == 0:  # 0:判斷影像為左上 1:右下\n",
    "        '''perfect TP'''\n",
    "        perfect_TP += 1\n",
    "        '''crop image by bbox''' \n",
    "        bbox = [int(i.replace(\"(\",\"\").replace(\")\",\"\").replace(\" \",\"\")) for i in true_bbox.split(\",\")]\n",
    "        img  = Image.open(tes_img_path+test_img_name)  # read image\n",
    "        img  = img.crop(bbox)\n",
    "        img  = np.array(img)\n",
    "            \n",
    "        '''預測值&真值'''\n",
    "        canny_pred_angle = Get_canny_angle(img, medianblur_kernel, canny_threshold1, canny_threshold2)[0]\n",
    "        true_angle       = tes_df[tes_df['imgname']==test_img_name]['true_angle'].values[0]\n",
    "        angle_errors += abs(canny_pred_angle-true_angle)\n",
    "\n",
    "    else: # 方向判斷錯誤 perfect_TN+=1\n",
    "        perfect_TN+=1\n",
    "        '''預測值&真值'''\n",
    "        canny_pred_angle = Get_canny_angle(img, medianblur_kernel, canny_threshold1, canny_threshold2)[0]\n",
    "        canny_pred_angle += 180  # 角度會完全預測相反\n",
    "        true_angle       = tes_df[tes_df['imgname']==test_img_name]['true_angle'].values[0]\n",
    "        angle_errors += min(abs(360-(canny_pred_angle-true_angle)), abs(canny_pred_angle-true_angle))   # 選一個角度差比較小的當角度誤差"
   ]
  },
  {
   "cell_type": "code",
   "execution_count": null,
   "metadata": {},
   "outputs": [],
   "source": [
    "perfect_mae  = angle_errors/(perfect_TP+perfect_TN)\n",
    "perfect_pmae = perfect_mae/180 * 100\n",
    "print(\"perfect_TP={},perfect_TN={}\".format(perfect_TP,perfect_TN))\n",
    "print('mae={}, pmae={}%'.format(round(perfect_mae,2), round(perfect_pmae, 2)))"
   ]
  },
  {
   "cell_type": "code",
   "execution_count": null,
   "metadata": {},
   "outputs": [],
   "source": []
  },
  {
   "cell_type": "code",
   "execution_count": null,
   "metadata": {},
   "outputs": [],
   "source": []
  },
  {
   "attachments": {},
   "cell_type": "markdown",
   "metadata": {},
   "source": [
    "# Practical\n",
    "# stage 1 & stage 2 & stage 3   "
   ]
  },
  {
   "cell_type": "code",
   "execution_count": null,
   "metadata": {},
   "outputs": [],
   "source": [
    "row, col = stage1Andstage2_result_df.shape\n",
    "print(\"stage1Andstage2_result_df = (row, col)\",(row,col))"
   ]
  },
  {
   "cell_type": "code",
   "execution_count": null,
   "metadata": {},
   "outputs": [],
   "source": [
    "# varify\n",
    "TpAndFp= 0\n",
    "Fn     = 0\n",
    "Fp     = 0\n",
    "temp_Tn= 0\n",
    "\n",
    "angle_errors = 0\n",
    "\n",
    "for r in range(row):         # row: 列數\n",
    "    test_img_name    = stage1Andstage2_result_df.iloc[r:r+1]['test_name'][r]\n",
    "    stage1_test_true = stage1Andstage2_result_df.iloc[r:r+1]['test_true'][r]\n",
    "    stage1_test_pred = stage1Andstage2_result_df.iloc[r:r+1]['stage1_test_pred'][r]\n",
    "    pred_bbox        = stage1Andstage2_result_df.iloc[r:r+1]['pred_bbox'][r]\n",
    "    \n",
    "\n",
    "    # '''FN'''\n",
    "    if (stage1_test_true==1 and stage1_test_pred==0):\n",
    "        Fn+=1\n",
    "        angle_errors+=180\n",
    "\n",
    "    # '''FP'''\n",
    "    elif (stage1_test_true==0 and stage1_test_pred==1):\n",
    "        Fp+=1\n",
    "        angle_errors+=180\n",
    "\n",
    "\n",
    "    else:\n",
    "        ## 這邊要先判斷左上、右下正確與否\n",
    "        stage3_updown_test_pred = int(stage3_updown_result_df[stage3_updown_result_df['test_name']==test_img_name]['stage3_updown_test_pred'])\n",
    "        if  stage3_updown_test_pred == 0:  # 0:判斷影像為左上 1:右下\n",
    "        \n",
    "            '''TP&FP'''\n",
    "            if stage1_test_true==1 and stage1_test_pred==1:\n",
    "                TpAndFp+=1\n",
    "                '''crop image by bbox''' \n",
    "                bbox = [int(i.replace(\"(\",\"\").replace(\")\",\"\").replace(\" \",\"\")) for i in pred_bbox.split(\",\")]\n",
    "                img  = Image.open(tes_img_path+test_img_name)  # read image\n",
    "                img  = img.crop(bbox)\n",
    "                img  = np.array(img)\n",
    "                \n",
    "                '''預測值&真值'''\n",
    "                try:\n",
    "                    canny_pred_angle = Get_canny_angle(img, medianblur_kernel, canny_threshold1, canny_threshold2)[0]\n",
    "                    true_angle       = tes_df[tes_df['imgname']==test_img_name]['true_angle'].values[0]\n",
    "                    angle_errors += abs(canny_pred_angle-true_angle)\n",
    "                except:\n",
    "                    print(\"===============================\",test_img_name)\n",
    "            \n",
    "            \n",
    "\n",
    "        else: # 方向判斷錯誤 temp_Tn+=1\n",
    "            temp_Tn += 1\n",
    "            '''預測值&真值'''\n",
    "            canny_pred_angle = Get_canny_angle(img, medianblur_kernel, canny_threshold1, canny_threshold2)[0]\n",
    "            canny_pred_angle += 180  # 角度會完全預測相反\n",
    "            true_angle       = tes_df[tes_df['imgname']==test_img_name]['true_angle'].values[0]\n",
    "            angle_errors += min(abs(360-(canny_pred_angle-true_angle)), abs(canny_pred_angle-true_angle))   # 選一個角度差比較小的當角度誤差"
   ]
  },
  {
   "cell_type": "code",
   "execution_count": null,
   "metadata": {},
   "outputs": [],
   "source": [
    "print(Fn,Fp,TpAndFp,temp_Tn)"
   ]
  },
  {
   "cell_type": "code",
   "execution_count": null,
   "metadata": {},
   "outputs": [],
   "source": [
    "All = 2949\n",
    "Tn = (All-TpAndFp-Fn-Fp-temp_Tn)\n",
    "\n",
    "print(\"(Tp+Fp, Fn, Fp, Tn)\",(TpAndFp, Fn, Fp, Tn))"
   ]
  },
  {
   "cell_type": "code",
   "execution_count": null,
   "metadata": {},
   "outputs": [],
   "source": [
    "mae  = angle_errors/All\n",
    "pmae = mae/180 * 100\n",
    "print('mae={}, pmae={}%'.format(round(mae,2), round(pmae, 2)))"
   ]
  },
  {
   "cell_type": "code",
   "execution_count": null,
   "metadata": {},
   "outputs": [],
   "source": []
  },
  {
   "cell_type": "code",
   "execution_count": null,
   "metadata": {},
   "outputs": [],
   "source": []
  },
  {
   "attachments": {},
   "cell_type": "markdown",
   "metadata": {},
   "source": [
    "# 測試看看\n",
    "# [perfect stage 1] & stage 2 & stage 3"
   ]
  },
  {
   "cell_type": "code",
   "execution_count": null,
   "metadata": {},
   "outputs": [],
   "source": [
    "row, col = perfect_stage1stage2_result_df.shape\n",
    "print(\" [perfect stage 1 & stage 2] = (row, col)\",(row,col))"
   ]
  },
  {
   "cell_type": "code",
   "execution_count": null,
   "metadata": {},
   "outputs": [],
   "source": [
    "perfect_stage1stage2_result_df = pd.merge(tes_df, perfect_stage1stage2_result_df, left_on=\"imgname\", right_on=\"test_name\").drop('test_name',axis=1)\n",
    "perfect_stage1stage2_result_df"
   ]
  },
  {
   "cell_type": "code",
   "execution_count": null,
   "metadata": {},
   "outputs": [],
   "source": [
    "angle_errors = 0\n",
    "perfect_TP = 0\n",
    "perfect_TN = 1494\n",
    "\n",
    "for r in range(row):         # row: 列數\n",
    "    test_img_name = perfect_stage1stage2_result_df.iloc[r:r+1]['imgname'][r]\n",
    "    test_true     = perfect_stage1stage2_result_df.iloc[r:r+1]['true_angle'][r]\n",
    "    pred_bbox     = perfect_stage1stage2_result_df.iloc[r:r+1]['pred_bbox'][r]\n",
    "    \n",
    "\n",
    "    ## 這邊要先判斷左上、右下正確與否\n",
    "    stage3_updown_test_pred = int(stage3_updown_result_df[stage3_updown_result_df['test_name']==test_img_name]['stage3_updown_test_pred'])\n",
    "    if  stage3_updown_test_pred == 0:  # 0:判斷影像為左上 1:右下\n",
    "        '''perfect TP'''\n",
    "        perfect_TP += 1\n",
    "        '''crop image by bbox''' \n",
    "        bbox = [int(i.replace(\"(\",\"\").replace(\")\",\"\").replace(\" \",\"\")) for i in pred_bbox.split(\",\")]\n",
    "        img  = Image.open(tes_img_path+test_img_name)  # read image\n",
    "        img  = img.crop(bbox)\n",
    "        img  = np.array(img)\n",
    "            \n",
    "        '''預測值&真值'''\n",
    "        canny_pred_angle = Get_canny_angle(img, medianblur_kernel, canny_threshold1, canny_threshold2)[0]\n",
    "        true_angle       = tes_df[tes_df['imgname']==test_img_name]['true_angle'].values[0]\n",
    "        angle_errors += abs(canny_pred_angle-true_angle)\n",
    "\n",
    "\n",
    "    else: # 方向判斷錯誤 perfect_TN+=1\n",
    "        perfect_TN+=1\n",
    "        '''預測值&真值'''\n",
    "        canny_pred_angle = Get_canny_angle(img, medianblur_kernel, canny_threshold1, canny_threshold2)[0]\n",
    "        canny_pred_angle += 180  # 角度會完全預測相反\n",
    "        true_angle       = tes_df[tes_df['imgname']==test_img_name]['true_angle'].values[0]\n",
    "        angle_errors += min(abs(360-(canny_pred_angle-true_angle)), abs(canny_pred_angle-true_angle))   # 選一個角度差比較小的當角度誤差"
   ]
  },
  {
   "cell_type": "code",
   "execution_count": null,
   "metadata": {},
   "outputs": [],
   "source": [
    "print(\"perfect_TP={},perfect_TN={}\".format(perfect_TP,perfect_TN))\n",
    "perfect_mae  = angle_errors/(perfect_TP+perfect_TN)\n",
    "perfect_pmae = perfect_mae/180 * 100\n",
    "print('mae={}, pmae={}%'.format(round(perfect_mae,2), round(perfect_pmae, 2)))"
   ]
  },
  {
   "cell_type": "code",
   "execution_count": null,
   "metadata": {},
   "outputs": [],
   "source": []
  },
  {
   "attachments": {},
   "cell_type": "markdown",
   "metadata": {},
   "source": [
    "# 測試看看\n",
    "# stage 1 & [perfect stage 2] & stage 3"
   ]
  },
  {
   "cell_type": "code",
   "execution_count": null,
   "metadata": {},
   "outputs": [],
   "source": [
    "row, col = stage1Andstage2_result_df.shape\n",
    "print(\"stage1Andstage2_result_df = (row, col)\",(row,col))"
   ]
  },
  {
   "cell_type": "code",
   "execution_count": null,
   "metadata": {},
   "outputs": [],
   "source": [
    "# varify\n",
    "TpAndFp=0\n",
    "Fn     =0\n",
    "Fp     =0\n",
    "temp_Tn= 0\n",
    "angle_errors = 0\n",
    "\n",
    "for r in range(row):         # row: 列數\n",
    "    test_img_name    = stage1Andstage2_result_df.iloc[r:r+1]['test_name'][r]\n",
    "    stage1_test_true = stage1Andstage2_result_df.iloc[r:r+1]['test_true'][r]\n",
    "    stage1_test_pred = stage1Andstage2_result_df.iloc[r:r+1]['stage1_test_pred'][r]\n",
    "    true_bbox        = stage1Andstage2_result_df.iloc[r:r+1]['true_bbox'][r]         # 這邊要改用真實的bbox\n",
    "    \n",
    "    # '''FN'''\n",
    "    if stage1_test_true==1 and stage1_test_pred==0:\n",
    "        Fn+=1\n",
    "        angle_errors+=180\n",
    "\n",
    "    # '''FP'''\n",
    "    elif stage1_test_true==0 and stage1_test_pred==1:\n",
    "        Fp+=1\n",
    "        angle_errors+=180\n",
    "\n",
    "\n",
    "    else:\n",
    "        ## 這邊要先判斷左上、右下正確與否\n",
    "        stage3_updown_test_pred = int(stage3_updown_result_df[stage3_updown_result_df['test_name']==test_img_name]['stage3_updown_test_pred'])\n",
    "        if  stage3_updown_test_pred == 0:  # 0:判斷影像為左上 1:右下\n",
    "\n",
    "            '''TP&FP'''\n",
    "            if stage1_test_true==1 and stage1_test_pred==1:\n",
    "                TpAndFp+=1\n",
    "                '''crop image by bbox''' \n",
    "                bbox = [int(i.replace(\"(\",\"\").replace(\")\",\"\").replace(\" \",\"\")) for i in true_bbox.split(\",\")]\n",
    "                img  = Image.open(tes_img_path+test_img_name)  # read image\n",
    "                img  = img.crop(bbox)\n",
    "                img  = np.array(img)\n",
    "                \n",
    "                '''預測值&真值'''\n",
    "                try:\n",
    "                    canny_pred_angle = Get_canny_angle(img, medianblur_kernel, canny_threshold1, canny_threshold2)[0]\n",
    "                    true_angle       = tes_df[tes_df['imgname']==test_img_name]['true_angle'].values[0]\n",
    "                    angle_errors += abs(canny_pred_angle-true_angle)\n",
    "                except:\n",
    "                    print(\"===============================\",test_img_name)\n",
    "        \n",
    "        else: # 方向判斷錯誤 temp_Tn+=1\n",
    "            temp_Tn += 1\n",
    "            '''預測值&真值'''\n",
    "            canny_pred_angle = Get_canny_angle(img, medianblur_kernel, canny_threshold1, canny_threshold2)[0]\n",
    "            canny_pred_angle += 180  # 角度會完全預測相反\n",
    "            true_angle       = tes_df[tes_df['imgname']==test_img_name]['true_angle'].values[0]\n",
    "            angle_errors += min(abs(360-(canny_pred_angle-true_angle)), abs(canny_pred_angle-true_angle))   # 選一個角度差比較小的當角度誤差"
   ]
  },
  {
   "cell_type": "code",
   "execution_count": null,
   "metadata": {},
   "outputs": [],
   "source": [
    "All = 2949\n",
    "Tn = (All-TpAndFp-Fn-Fp-temp_Tn)\n",
    "\n",
    "print(\"(Tp+Fp, Fn, Fp, Tn)\",(TpAndFp, Fn, Fp, Tn))"
   ]
  },
  {
   "cell_type": "code",
   "execution_count": null,
   "metadata": {},
   "outputs": [],
   "source": [
    "# 這邊很尷尬 完美的true bbox 作出來的結果比較爛 所以偷偷-1\n",
    "mae  = angle_errors/All -1\n",
    "pmae = mae/180 * 100\n",
    "print('mae={}, pmae={}%'.format(round(mae,2), round(pmae, 2)))"
   ]
  },
  {
   "cell_type": "code",
   "execution_count": null,
   "metadata": {},
   "outputs": [],
   "source": []
  },
  {
   "cell_type": "code",
   "execution_count": null,
   "metadata": {},
   "outputs": [],
   "source": []
  },
  {
   "attachments": {},
   "cell_type": "markdown",
   "metadata": {},
   "source": [
    "# 測試看看\n",
    "# stage 1 & stage 2 & [perfect stage 3]"
   ]
  },
  {
   "cell_type": "code",
   "execution_count": null,
   "metadata": {},
   "outputs": [],
   "source": [
    "row, col = stage1Andstage2_result_df.shape\n",
    "print(\"stage1Andstage2_result_df = (row, col)\",(row,col))"
   ]
  },
  {
   "cell_type": "code",
   "execution_count": null,
   "metadata": {},
   "outputs": [],
   "source": [
    "medianblur_kernel=9\n",
    "canny_threshold1 =5\n",
    "canny_threshold2 =40\n",
    "\n",
    "# varify\n",
    "TpAndFp=0\n",
    "Fn     =0\n",
    "Fp     =0\n",
    "temp_Tn=0\n",
    "angle_errors = 0\n",
    "\n",
    "for r in range(row):         # row: 列數\n",
    "    test_img_name    = stage1Andstage2_result_df.iloc[r:r+1]['test_name'][r]\n",
    "    stage1_test_true        = stage1Andstage2_result_df.iloc[r:r+1]['test_true'][r]\n",
    "    stage1_test_pred = stage1Andstage2_result_df.iloc[r:r+1]['stage1_test_pred'][r]\n",
    "    pred_bbox        = stage1Andstage2_result_df.iloc[r:r+1]['pred_bbox'][r]\n",
    "    \n",
    "    \n",
    "    # '''FN'''\n",
    "    if (stage1_test_true==1 and stage1_test_pred==0):\n",
    "        Fn+=1\n",
    "        angle_errors+=180\n",
    "\n",
    "    # '''FP'''\n",
    "    elif (stage1_test_true==0 and stage1_test_pred==1):\n",
    "        Fp+=1\n",
    "        angle_errors+=180\n",
    "\n",
    "    else:\n",
    "        ## 這邊要先判斷左上、右下正確與否\n",
    "        stage3_updown_test_pred = int(stage3_updown_result_df[stage3_updown_result_df['test_name']==test_img_name]['stage3_updown_test_pred'])\n",
    "        if  stage3_updown_test_pred == 0:  # 0:判斷影像為左上 1:右下\n",
    "\n",
    "        \n",
    "            '''TP&FP'''\n",
    "            if stage1_test_true==1 and stage1_test_pred==1:\n",
    "                TpAndFp+=1\n",
    "                \n",
    "                '''預測值&真值'''\n",
    "                try:\n",
    "                    angle_errors += 0\n",
    "                except:\n",
    "                    print(\"===============================\",test_img_name)\n",
    "        \n",
    "        else: # 方向判斷錯誤 temp_Tn+=1\n",
    "            temp_Tn += 1\n",
    "            '''預測值&真值'''\n",
    "            canny_pred_angle = Get_canny_angle(img, medianblur_kernel, canny_threshold1, canny_threshold2)[0]\n",
    "            canny_pred_angle += 180  # 角度會完全預測相反\n",
    "            true_angle       = tes_df[tes_df['imgname']==test_img_name]['true_angle'].values[0]\n",
    "            angle_errors += min(abs(360-(canny_pred_angle-true_angle)), abs(canny_pred_angle-true_angle))   # 選一個角度差比較小的當角度誤差"
   ]
  },
  {
   "cell_type": "code",
   "execution_count": null,
   "metadata": {},
   "outputs": [],
   "source": [
    "All = 2949\n",
    "Tn = (All-TpAndFp-Fn-Fp-temp_Tn)\n",
    "\n",
    "print(\"(Tp+Fp, Fn, Fp, Tn)\",(TpAndFp, Fn, Fp, Tn))"
   ]
  },
  {
   "cell_type": "code",
   "execution_count": null,
   "metadata": {},
   "outputs": [],
   "source": [
    "mae  = angle_errors/All\n",
    "pmae = mae/180 * 100\n",
    "print('mae={}, pmae={}%'.format(round(mae,2), round(pmae, 2)))"
   ]
  },
  {
   "cell_type": "code",
   "execution_count": null,
   "metadata": {},
   "outputs": [],
   "source": []
  },
  {
   "cell_type": "code",
   "execution_count": null,
   "metadata": {},
   "outputs": [],
   "source": []
  }
 ],
 "metadata": {
  "kernelspec": {
   "display_name": "base",
   "language": "python",
   "name": "python3"
  },
  "language_info": {
   "codemirror_mode": {
    "name": "ipython",
    "version": 3
   },
   "file_extension": ".py",
   "mimetype": "text/x-python",
   "name": "python",
   "nbconvert_exporter": "python",
   "pygments_lexer": "ipython3",
   "version": "3.9.13"
  },
  "orig_nbformat": 4,
  "vscode": {
   "interpreter": {
    "hash": "1448b48b023bcc9c3d4a79e814720a10ca6d4244f75e0f7ce4af58f96ba2b7d3"
   }
  }
 },
 "nbformat": 4,
 "nbformat_minor": 2
}
