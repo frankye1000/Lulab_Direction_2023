{
 "cells": [
  {
   "cell_type": "code",
   "execution_count": null,
   "metadata": {},
   "outputs": [],
   "source": [
    "import cv2 as cv\n",
    "import numpy as np\n",
    "import pandas as pd\n",
    "from glob import glob\n",
    "from sklearn.utils import shuffle\n",
    "\n",
    "from config import efficientNet_config\n",
    "from models import efficientNetV2B0_model, efficientNetV2B3_model, vgg16_model, resnet50_model\n",
    "from utils import plt_heatmap, plt_roccurve\n",
    "\n",
    "from sklearn.metrics import confusion_matrix\n",
    "from sklearn.metrics import multilabel_confusion_matrix\n",
    "from sklearn.metrics import roc_curve, auc, accuracy_score, f1_score\n",
    "from sklearn.preprocessing import OneHotEncoder\n",
    "\n",
    "import os\n",
    "# 使用第一張 GPU 卡\n",
    "os.environ[\"CUDA_VISIBLE_DEVICES\"] = \"0\""
   ]
  },
  {
   "cell_type": "markdown",
   "metadata": {},
   "source": [
    "# 載入模型"
   ]
  },
  {
   "cell_type": "code",
   "execution_count": null,
   "metadata": {},
   "outputs": [],
   "source": [
    "model = efficientNetV2B0_model()  # 類別\n",
    "model.load_weights('../model/202303/20230409.weights')\n",
    "# from tensorflow import keras\n",
    "# model = keras.models.load_model('../model/202303/20230315.weights')"
   ]
  },
  {
   "cell_type": "code",
   "execution_count": null,
   "metadata": {},
   "outputs": [],
   "source": [
    "height  = efficientNet_config['height_B0']\n",
    "width   = efficientNet_config['width_B0']"
   ]
  },
  {
   "cell_type": "code",
   "execution_count": null,
   "metadata": {},
   "outputs": [],
   "source": []
  },
  {
   "cell_type": "markdown",
   "metadata": {},
   "source": [
    "# 法一: 分類模型 測試集結果"
   ]
  },
  {
   "cell_type": "code",
   "execution_count": null,
   "metadata": {},
   "outputs": [],
   "source": [
    "test_img_paths     = sorted(glob('../dataset_20230323/test_dataset/cropped_img/*.png'))                  # !!!!!!!!!!!!!!!!!!!!!!!!!!!!!!!!!!!!! 換資料集\n",
    "\n",
    "test_imgnames = []\n",
    "test_img_arrays = []\n",
    "test_img_labels = []\n",
    "\n",
    "## up\n",
    "for test_img_path in test_img_paths:\n",
    "    imgname = test_img_path.split(\"/\")[-1]\n",
    "    test_imgnames.append(imgname)\n",
    "\n",
    "    img_array = cv.imread(test_img_path)\n",
    "    img_array = cv.resize(img_array,(224, 224))     # efficientNetv2B0\n",
    "    \n",
    "    # image array\n",
    "    test_img_arrays.append(img_array)\n",
    "    # label\n",
    "    test_img_labels.append([0])\n",
    "\n",
    "## down\n",
    "for test_img_path in test_img_paths:\n",
    "    img_array = cv.imread(test_img_path)\n",
    "    img_array = cv.resize(img_array,(224, 224))     # efficientNetv2B0\n",
    "    smoothed_img2_ROTATE_180 = cv.rotate(img_array, cv.ROTATE_180)   # 轉180度\n",
    "    # image array(rotate 180) \n",
    "    test_img_arrays.append(smoothed_img2_ROTATE_180)\n",
    "    # label(rotate 180)\n",
    "    test_img_labels.append([1])\n",
    "\n",
    "\n",
    "# to numpy array\n",
    "test_img_arrays = np.array(test_img_arrays)\n",
    "test_img_labels = np.array(test_img_labels)"
   ]
  },
  {
   "cell_type": "markdown",
   "metadata": {},
   "source": [
    "# 打亂"
   ]
  },
  {
   "cell_type": "code",
   "execution_count": null,
   "metadata": {},
   "outputs": [],
   "source": [
    "# tes_img_arrays, tes_img_labels = shuffle(tes_img_arrays, tes_img_labels)"
   ]
  },
  {
   "cell_type": "code",
   "execution_count": null,
   "metadata": {},
   "outputs": [],
   "source": [
    "# tes_img_arrays.shape"
   ]
  },
  {
   "cell_type": "markdown",
   "metadata": {},
   "source": [
    "# 預測"
   ]
  },
  {
   "cell_type": "code",
   "execution_count": null,
   "metadata": {},
   "outputs": [],
   "source": [
    "pred_result = model.predict(test_img_arrays)"
   ]
  },
  {
   "cell_type": "markdown",
   "metadata": {},
   "source": [
    "# 結果"
   ]
  },
  {
   "cell_type": "code",
   "execution_count": null,
   "metadata": {},
   "outputs": [],
   "source": [
    "fpr, tpr, thresholds = roc_curve(test_img_labels, pred_result, pos_label=1) \n",
    "roc_auc = auc(fpr, tpr)\n",
    "plt_roccurve(fpr,tpr,roc_auc)"
   ]
  },
  {
   "cell_type": "code",
   "execution_count": null,
   "metadata": {},
   "outputs": [],
   "source": [
    "pred_result = np.where(pred_result > 0.5, 1,0)\n",
    "tn, fp, fn, tp = confusion_matrix(test_img_labels, pred_result).ravel()\n",
    "sensitivity = round(tp / (tp+fn), 4)\n",
    "specificity = round(tn / (tn+fp), 4)\n",
    "balanced_acc= round((sensitivity+specificity)/2, 4)\n",
    "precision   = round(tp / (tp+fp), 4)\n",
    "f1score     = round(2/((1/precision)+(1/sensitivity)), 4)\n",
    "accuracy    = round((tp+tn)/(tn+fp+fn+tp), 4)\n",
    "\n",
    "print('Sensitivity= ',sensitivity)\n",
    "print('Specificity= ',specificity)\n",
    "print('Balanced_acc= ',balanced_acc)\n",
    "print('Precision= ', precision)\n",
    "print('f1score= ', f1score)\n",
    "print('Accuracy= ',accuracy)"
   ]
  },
  {
   "cell_type": "code",
   "execution_count": null,
   "metadata": {},
   "outputs": [],
   "source": [
    "plt_heatmap([[tp,fn],[fp,tn]])"
   ]
  },
  {
   "cell_type": "code",
   "execution_count": null,
   "metadata": {},
   "outputs": [],
   "source": [
    "# 將結果存起來，給stage3用\n",
    "\n",
    "test_dict = {\n",
    " \"test_name\" : test_imgnames,\n",
    " \"test_true\" : test_img_labels.reshape(-1)[:(len(test_img_labels)//2)],     # 先只存左上的結果\n",
    " \"stage3_updown_test_pred\" : pred_result.reshape(-1)[:(len(pred_result)//2)]\n",
    "}\n",
    "\n",
    "pd.DataFrame(test_dict).to_pickle(\"../result/stage3_updown_pred_result_test_20230401.pickle\")\n"
   ]
  },
  {
   "cell_type": "code",
   "execution_count": null,
   "metadata": {},
   "outputs": [],
   "source": [
    "count = 0\n",
    "for i in pred_result.reshape(-1)[:(len(pred_result)//2)]:\n",
    "    if i == 1:\n",
    "        count+=1"
   ]
  },
  {
   "cell_type": "code",
   "execution_count": null,
   "metadata": {},
   "outputs": [],
   "source": [
    "count"
   ]
  },
  {
   "cell_type": "code",
   "execution_count": null,
   "metadata": {},
   "outputs": [],
   "source": []
  }
 ],
 "metadata": {
  "kernelspec": {
   "display_name": "Python 3",
   "language": "python",
   "name": "python3"
  },
  "language_info": {
   "codemirror_mode": {
    "name": "ipython",
    "version": 3
   },
   "file_extension": ".py",
   "mimetype": "text/x-python",
   "name": "python",
   "nbconvert_exporter": "python",
   "pygments_lexer": "ipython3",
   "version": "3.9.13"
  },
  "orig_nbformat": 4,
  "vscode": {
   "interpreter": {
    "hash": "31f2aee4e71d21fbe5cf8b01ff0e069b9275f58929596ceb00d14d90e3e16cd6"
   }
  }
 },
 "nbformat": 4,
 "nbformat_minor": 2
}
