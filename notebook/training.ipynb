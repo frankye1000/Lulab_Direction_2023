{
 "cells": [
  {
   "cell_type": "code",
   "execution_count": null,
   "metadata": {},
   "outputs": [],
   "source": [
    "from tensorflow.keras.optimizers import Adam,RMSprop\n",
    "from tensorflow.keras import models, Sequential\n",
    "from tensorflow.keras.callbacks import ReduceLROnPlateau,ModelCheckpoint\n",
    "from tensorflow.keras.layers import Dropout, Dense, GlobalAveragePooling2D\n",
    "from tensorflow.keras.preprocessing.image import ImageDataGenerator\n",
    "from tensorflow.keras.metrics import Balanceacc\n",
    "\n",
    "from models import efficientNetV2B0_model, efficientNetV2B3_model, vgg16_model, resnet50_model, mobilenetv2_model, frank_model\n",
    "from config import efficientNet_config\n",
    "\n",
    "import cv2 as cv\n",
    "import numpy as np\n",
    "import pandas as pd\n",
    "from glob import glob\n",
    "import matplotlib.pyplot as plt\n",
    "from sklearn.utils import shuffle\n",
    "from sklearn.preprocessing import OneHotEncoder\n",
    "\n",
    "import os\n",
    "# 使用第一張 GPU 卡\n",
    "os.environ[\"CUDA_VISIBLE_DEVICES\"] = \"1\""
   ]
  },
  {
   "cell_type": "code",
   "execution_count": null,
   "metadata": {},
   "outputs": [],
   "source": [
    "height  = efficientNet_config['height_B0']\n",
    "width   = efficientNet_config['width_B0']\n",
    "input_shape  = efficientNet_config['input_shape_B0']"
   ]
  },
  {
   "cell_type": "markdown",
   "metadata": {},
   "source": [
    "# 讀取資料"
   ]
  },
  {
   "cell_type": "code",
   "execution_count": null,
   "metadata": {},
   "outputs": [],
   "source": [
    "# label\n",
    "tra_df = pd.read_csv(\"../dataset/training_dataset/direc/train/new_class.csv\", index_col=False)\n",
    "val_df = pd.read_csv(\"../dataset/training_dataset/direc/validation/new_class.csv\", index_col=False)\n",
    "# 不要 label='right'的資料\n",
    "tra_df = tra_df[tra_df['new_class']!='right']\n",
    "val_df = val_df[val_df['new_class']!='right']\n",
    "\n",
    "tra_img_labels = tra_df['new_class'].values.tolist()\n",
    "val_img_labels = val_df['new_class'].values.tolist()\n",
    "\n",
    "# label one hot\n",
    "labels_onehot  = OneHotEncoder().fit_transform(np.array(tra_img_labels+val_img_labels).reshape(-1,1)).toarray()\n",
    "\n",
    "r,c = tra_df.shape\n",
    "tra_img_labels_onehot = labels_onehot[:r]\n",
    "val_img_labels_onehot = labels_onehot[r:]\n",
    "print('訓練集label 維度= ',tra_img_labels_onehot.shape)\n",
    "print('驗證集label 維度= ',val_img_labels_onehot.shape)"
   ]
  },
  {
   "cell_type": "code",
   "execution_count": null,
   "metadata": {},
   "outputs": [],
   "source": [
    "tra_img_name_list = tra_df['img_name'].values.tolist()\n",
    "val_img_name_list = val_df['img_name'].values.tolist() "
   ]
  },
  {
   "cell_type": "code",
   "execution_count": null,
   "metadata": {},
   "outputs": [],
   "source": []
  },
  {
   "cell_type": "code",
   "execution_count": null,
   "metadata": {},
   "outputs": [],
   "source": [
    "# image dirction\n",
    "tra_dir = '../dataset/training_dataset/img/train/CropSmooth/'\n",
    "val_dir = '../dataset/training_dataset/img/validation/CropSmooth/'\n",
    "\n",
    "tra_img_arrays = []\n",
    "val_img_arrays = []\n",
    "\n",
    "## train image array\n",
    "for img_name in tra_img_name_list:\n",
    "    # image\n",
    "    img_array = cv.imread(tra_dir+img_name)\n",
    "    img_array = cv.resize(img_array,(height,width))      # resize to (224,224)\n",
    "    tra_img_arrays.append(img_array)\n",
    "\n",
    "    # npy\n",
    "    # img_array = np.load(tra_dir + img_name.split(\".\")[0] + \".npy\")\n",
    "    # img_array = cv.resize(img_array,(height,width))\n",
    "    # tra_img_arrays.append(img_array)\n",
    "\n",
    "## validation\n",
    "for img_name in val_img_name_list:\n",
    "    # imege\n",
    "    img_array = cv.imread(val_dir+img_name)\n",
    "    img_array = cv.resize(img_array,(height,width))      # resize to (224,224)\n",
    "    val_img_arrays.append(img_array)\n",
    "\n",
    "    # npy\n",
    "    # img_array = np.load(val_dir + img_name.split(\".\")[0] + \".npy\")\n",
    "    # img_array = cv.resize(img_array,(height,width))\n",
    "    # val_img_arrays.append(img_array)\n",
    "\n",
    "\n",
    "tra_img_arrays = np.array(tra_img_arrays) \n",
    "val_img_arrays = np.array(val_img_arrays)\n",
    "\n",
    "# npy\n",
    "# tra_img_arrays = np.repeat(tra_img_arrays[..., np.newaxis], 3, -1)   # 灰階轉RGB\n",
    "# val_img_arrays = np.repeat(val_img_arrays[..., np.newaxis], 3, -1)   # 灰階轉RGB"
   ]
  },
  {
   "cell_type": "code",
   "execution_count": null,
   "metadata": {},
   "outputs": [],
   "source": [
    "print('訓練集數量= ',len(tra_img_arrays))\n",
    "print('驗證集數量= ',len(val_img_arrays))\n"
   ]
  },
  {
   "cell_type": "code",
   "execution_count": null,
   "metadata": {},
   "outputs": [],
   "source": [
    "# tra_img_arrays, tra_img_labels = shuffle(tra_img_arrays, tra_img_labels)\n",
    "# val_img_arrays, val_img_labels = shuffle(val_img_arrays, val_img_labels)"
   ]
  },
  {
   "cell_type": "code",
   "execution_count": null,
   "metadata": {},
   "outputs": [],
   "source": [
    "print('訓練集維度= ', tra_img_arrays.shape)\n",
    "print('驗證集維度= ', val_img_arrays.shape)\n",
    "print('訓練集label維度= ', tra_img_labels_onehot.shape)\n",
    "print('驗證集label維度= ', val_img_labels_onehot.shape)"
   ]
  },
  {
   "cell_type": "code",
   "execution_count": null,
   "metadata": {},
   "outputs": [],
   "source": []
  },
  {
   "cell_type": "code",
   "execution_count": null,
   "metadata": {},
   "outputs": [],
   "source": [
    "from utils import angle_error"
   ]
  },
  {
   "cell_type": "code",
   "execution_count": null,
   "metadata": {},
   "outputs": [],
   "source": [
    "model = efficientNetV2B0_model(cls=tra_img_labels_onehot.shape[1])\n",
    "\n",
    "model.compile(loss='categorical_crossentropy', \n",
    "              optimizer= Adam(learning_rate=1e-5),\n",
    "              metrics=['accuracy', \n",
    "                        # Balanceacc(),\n",
    "                        angle_error\n",
    "                      ]\n",
    "              )\n"
   ]
  },
  {
   "cell_type": "code",
   "execution_count": null,
   "metadata": {},
   "outputs": [],
   "source": []
  },
  {
   "cell_type": "code",
   "execution_count": null,
   "metadata": {},
   "outputs": [],
   "source": [
    "day = '20221130'\n",
    "checkpoint_filepath = '../model/202211/{}.weights'.format(day)\n",
    "model_checkpoint_callback = ModelCheckpoint(\n",
    "        filepath=checkpoint_filepath,\n",
    "        save_weights_only=True,\n",
    "        monitor='val_angle_error',\n",
    "        mode='min',\n",
    "        save_best_only=True)\n",
    "\n",
    "# learning rate 降低\n",
    "# reduce_lr = ReduceLROnPlateau(monitor='val_loss', \n",
    "#                               factor=0.1,\n",
    "#                               patience=5, \n",
    "#                               min_lr=1e-8)\n",
    "\n",
    "\n",
    "\n",
    "callbacks = [model_checkpoint_callback, \n",
    "        #      reduce_lr\n",
    "             ]"
   ]
  },
  {
   "cell_type": "code",
   "execution_count": null,
   "metadata": {},
   "outputs": [],
   "source": []
  },
  {
   "cell_type": "code",
   "execution_count": null,
   "metadata": {},
   "outputs": [],
   "source": [
    "# 訓練\n",
    "class_weight = {0: 1.1,\n",
    "                1: 1,\n",
    "                2: 1.4\n",
    "                }\n",
    "epochs = 100\n",
    "history = model.fit(\n",
    "      x = tra_img_arrays.astype('float'),\n",
    "      y = tra_img_labels_onehot,\n",
    "      validation_data = (val_img_arrays.astype('float'), val_img_labels_onehot),      \n",
    "      epochs          = epochs,\n",
    "      verbose         = 1,\n",
    "      callbacks       = callbacks,\n",
    "      # class_weight    = class_weight\n",
    ")"
   ]
  },
  {
   "cell_type": "markdown",
   "metadata": {},
   "source": [
    "# 畫圖"
   ]
  },
  {
   "cell_type": "code",
   "execution_count": null,
   "metadata": {},
   "outputs": [],
   "source": [
    "loss         = history.history['loss']\n",
    "val_loss     = history.history['val_loss']\n",
    "accuracy     = history.history['accuracy']\n",
    "val_accuracy = history.history['val_accuracy']\n",
    "BlA          = history.history['angle_error']        # 先畫圖\n",
    "val_BlA      = history.history['val_angle_error']    # 先畫圖"
   ]
  },
  {
   "cell_type": "code",
   "execution_count": null,
   "metadata": {},
   "outputs": [],
   "source": [
    "x = [i for i in range(1, epochs+1)]\n",
    "\n",
    "min_valloss_x = val_loss.index(min(val_loss)) + 1\n",
    "min_valloss_y = min(val_loss)\n",
    "\n",
    "plt.figure(figsize=(24,4))\n",
    "plt.plot(x, loss, 'r')     \n",
    "plt.plot(x, val_loss, 'b')     # red dotted line (no marker)\n",
    "\n",
    "plt.plot(min_valloss_x, min_valloss_y, 'd', color='g')\n",
    "plt.text(min_valloss_x, min_valloss_y, \"({},{})\".format(min_valloss_x,round(min_valloss_y,2)), ha='left',va='top',fontsize=20)\n",
    "\n",
    "plt.legend(['loss','val_loss'])\n",
    "# plt.ylim((0, 0.01))\n",
    "plt.xlabel('epoch')\n",
    "plt.ylabel('loss')\n",
    "plt.title('loss')\n",
    "plt.savefig('../model/202211/{}_loss.png'.format(day),\n",
    "            bbox_inches='tight',\n",
    "            pad_inches=1,\n",
    "            transparent=False)\n",
    "plt.show()"
   ]
  },
  {
   "cell_type": "code",
   "execution_count": null,
   "metadata": {},
   "outputs": [],
   "source": [
    "x = [i for i in range(1, epochs+1)]\n",
    "\n",
    "max_valacc_x = val_accuracy.index(max(val_accuracy)) + 1\n",
    "max_valacc_y = max(val_accuracy)\n",
    "\n",
    "plt.figure(figsize=(24,4))\n",
    "plt.plot(x, accuracy, 'r')     \n",
    "plt.plot(x, val_accuracy, 'b')     # red dotted line (no marker)\n",
    "\n",
    "plt.plot(max_valacc_x, max_valacc_y, 'd', color='g')\n",
    "plt.text(max_valacc_x, max_valacc_y, \"({},{})\".format(max_valacc_x, round(max_valacc_y,2)), ha='left',va='top',fontsize=20)\n",
    "\n",
    "plt.legend(['accuracy','val_accuracy'])\n",
    "plt.ylim((0, 1.1))\n",
    "plt.xlabel('epoch')\n",
    "plt.ylabel('accuracy')\n",
    "plt.title('accuracy')\n",
    "plt.savefig('../model/202211/{}_acc.png'.format(day),\n",
    "            bbox_inches='tight',\n",
    "            pad_inches=1,\n",
    "            transparent=False)\n",
    "plt.show()"
   ]
  },
  {
   "cell_type": "code",
   "execution_count": null,
   "metadata": {},
   "outputs": [],
   "source": [
    "x = [i for i in range(1, epochs+1)]\n",
    "\n",
    "max_valBlA_x = val_BlA.index(min(val_BlA)) + 1\n",
    "max_valBlA_y = min(val_BlA)\n",
    "\n",
    "plt.figure(figsize=(24,4))\n",
    "plt.plot(x, BlA, 'r')     \n",
    "plt.plot(x, val_BlA, 'b')     # red dotted line (no marker)\n",
    "\n",
    "plt.plot(max_valBlA_x, max_valBlA_y, 'd', color='g')\n",
    "plt.text(max_valBlA_x, max_valBlA_y, \"({},{})\".format(max_valBlA_x, round(max_valBlA_y,2)), ha='left',va='top',fontsize=20)\n",
    "\n",
    "plt.legend(['angle error','val_angle error'])\n",
    "plt.ylim((0, 1.1))\n",
    "plt.xlabel('epoch')\n",
    "plt.ylabel('angle error')\n",
    "plt.title('angle error')\n",
    "plt.savefig('../model/202211/{}_BlA.png'.format(day),\n",
    "            bbox_inches='tight',\n",
    "            pad_inches=1,\n",
    "            transparent=False)\n",
    "plt.show()"
   ]
  },
  {
   "cell_type": "code",
   "execution_count": null,
   "metadata": {},
   "outputs": [],
   "source": [
    "import json\n",
    "# Get the dictionary containing each metric and the loss for each epoch\n",
    "history_dict = history.history\n",
    "# Save it under the form of a json file\n",
    "json.dump(history_dict, open('../model/202211/{}.history'.format(day), 'w'))"
   ]
  },
  {
   "cell_type": "code",
   "execution_count": null,
   "metadata": {},
   "outputs": [],
   "source": []
  },
  {
   "cell_type": "code",
   "execution_count": null,
   "metadata": {},
   "outputs": [],
   "source": []
  }
 ],
 "metadata": {
  "kernelspec": {
   "display_name": "Python 3",
   "language": "python",
   "name": "python3"
  },
  "language_info": {
   "codemirror_mode": {
    "name": "ipython",
    "version": 3
   },
   "file_extension": ".py",
   "mimetype": "text/x-python",
   "name": "python",
   "nbconvert_exporter": "python",
   "pygments_lexer": "ipython3",
   "version": "3.10.6"
  },
  "orig_nbformat": 4,
  "vscode": {
   "interpreter": {
    "hash": "31f2aee4e71d21fbe5cf8b01ff0e069b9275f58929596ceb00d14d90e3e16cd6"
   }
  }
 },
 "nbformat": 4,
 "nbformat_minor": 2
}
