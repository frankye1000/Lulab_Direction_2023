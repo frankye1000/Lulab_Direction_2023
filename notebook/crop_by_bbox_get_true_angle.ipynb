{
 "cells": [
  {
   "cell_type": "code",
   "execution_count": null,
   "metadata": {},
   "outputs": [],
   "source": [
    "import math\n",
    "import random\n",
    "import cv2 as cv\n",
    "import numpy as np\n",
    "import pandas as pd\n",
    "from PIL import Image\n",
    "from matplotlib import pyplot as plt\n",
    "from config import test_dataset_imagename_front, val_dataset_imagename_front"
   ]
  },
  {
   "cell_type": "code",
   "execution_count": null,
   "metadata": {},
   "outputs": [],
   "source": [
    "df = pd.read_csv(\"../dataset_20230323/angle_20230323.csv\",dtype={'imgname_front': object})\n",
    "df"
   ]
  },
  {
   "cell_type": "code",
   "execution_count": null,
   "metadata": {},
   "outputs": [],
   "source": [
    "def Get_true_angle(imgname_front):\n",
    "    filt = (df['imgname_front'] == imgname_front)\n",
    "    prob_angles = df.loc[filt]['angle'].to_list()\n",
    "    true_angle = random.choice(prob_angles)\n",
    "    return true_angle"
   ]
  },
  {
   "cell_type": "markdown",
   "metadata": {},
   "source": [
    "# test dataset"
   ]
  },
  {
   "cell_type": "code",
   "execution_count": null,
   "metadata": {},
   "outputs": [],
   "source": [
    "filename = \"../../yolov4_keras/test_dataset/txt/20230330_anno_test_lines_0.txt\"\n",
    "imgnames = []\n",
    "bboxs = []\n",
    "true_angles = []\n",
    "\n",
    "with open(filename) as file:\n",
    "    for line in file:\n",
    "        imgname = line.rstrip().split(\" \")[0]\n",
    "        imgname_front = imgname.split(\"_\")[0]\n",
    "\n",
    "        true_angle = Get_true_angle(imgname_front)\n",
    "        \n",
    "        x_min,y_min,x_max,y_max,c = line.rstrip().split(\" \")[1].split(\",\")\n",
    "        bbox = (int(x_min), int(y_min), int(x_max), int(y_max))\n",
    "        \n",
    "        if imgname_front in test_dataset_imagename_front:\n",
    "            imgnames.append(imgname)\n",
    "            bboxs.append(bbox)\n",
    "            true_angles.append(true_angle)\n",
    "        \n",
    "            # '''crop image by bbox''' \n",
    "            # img = Image.open('../test/1/{}'.format(imgname))\n",
    "            # img = img.crop(bbox)\n",
    "            # img.save(\"../direction/test_dataset/cropped_img/{}\".format(imgname))  \n",
    "\n",
    "# 將真實角度存起來\n",
    "test_df = {'imgname':imgnames, 'true_bbox':bboxs, 'true_angle':true_angles}\n",
    "pd.DataFrame(test_df).to_csv(\"../dataset_20230323/test_dataset/direc/true_angle_20230323.csv\",index=False)\n",
    "\n"
   ]
  },
  {
   "cell_type": "code",
   "execution_count": null,
   "metadata": {},
   "outputs": [],
   "source": []
  },
  {
   "attachments": {},
   "cell_type": "markdown",
   "metadata": {},
   "source": [
    "# training dataset(訓練集&驗證集)"
   ]
  },
  {
   "cell_type": "code",
   "execution_count": null,
   "metadata": {},
   "outputs": [],
   "source": [
    "imgnames = []\n",
    "bboxs = []\n",
    "true_angles = []"
   ]
  },
  {
   "cell_type": "code",
   "execution_count": null,
   "metadata": {},
   "outputs": [],
   "source": [
    "filename = \"../../yolov4_keras/dataset/txt/20230330_anno_train_lines_0.txt\"\n",
    "with open(filename) as file:\n",
    "    for line in file:\n",
    "        imgname = line.rstrip().split(\" \")[0]\n",
    "        imgname_front = imgname.split(\"_\")[0]\n",
    "\n",
    "        true_angle = Get_true_angle(imgname_front)\n",
    "        \n",
    "        x_min,y_min,x_max,y_max,c = line.rstrip().split(\" \")[1].split(\",\")\n",
    "        bbox = (int(x_min), int(y_min), int(x_max), int(y_max))\n",
    "        \n",
    "        if imgname_front not in test_dataset_imagename_front:\n",
    "            imgnames.append(imgname)\n",
    "            bboxs.append(bbox)\n",
    "            true_angles.append(true_angle)\n",
    "        \n",
    "            # '''crop image by bbox''' \n",
    "            # img = Image.open('../train/1/{}'.format(imgname))\n",
    "            # img = img.crop(bbox)\n",
    "            # img.save(\"../direction/training_dataset/cropped_img/{}\".format(imgname))  \n",
    "\n",
    "\n",
    "filename = \"../../yolov4_keras/dataset/txt/20230330_anno_val_lines_0.txt\"\n",
    "with open(filename) as file:\n",
    "    for line in file:\n",
    "        imgname = line.rstrip().split(\" \")[0]\n",
    "        imgname_front = imgname.split(\"_\")[0]\n",
    "\n",
    "        true_angle = Get_true_angle(imgname_front)\n",
    "        \n",
    "        x_min,y_min,x_max,y_max,c = line.rstrip().split(\" \")[1].split(\",\")\n",
    "        bbox = (int(x_min), int(y_min), int(x_max), int(y_max))\n",
    "        \n",
    "        if imgname_front not in test_dataset_imagename_front:\n",
    "            imgnames.append(imgname)\n",
    "            bboxs.append(bbox)\n",
    "            true_angles.append(true_angle)\n",
    "        \n",
    "            # '''crop image by bbox''' \n",
    "            # img = Image.open('../validation/1/{}'.format(imgname))\n",
    "            # img = img.crop(bbox)\n",
    "            # img.save(\"../direction/training_dataset/cropped_img/{}\".format(imgname))  \n"
   ]
  },
  {
   "cell_type": "code",
   "execution_count": null,
   "metadata": {},
   "outputs": [],
   "source": [
    "# 將真實角度存起來\n",
    "training_df = {'imgname':imgnames, 'true_bbox':bboxs, 'true_angle':true_angles}\n",
    "pd.DataFrame(training_df).to_csv(\"../dataset_20230323/training_dataset/direc/true_angle_20230323.csv\",index=False)"
   ]
  },
  {
   "cell_type": "code",
   "execution_count": null,
   "metadata": {},
   "outputs": [],
   "source": []
  },
  {
   "cell_type": "code",
   "execution_count": null,
   "metadata": {},
   "outputs": [],
   "source": []
  }
 ],
 "metadata": {
  "kernelspec": {
   "display_name": "base",
   "language": "python",
   "name": "python3"
  },
  "language_info": {
   "codemirror_mode": {
    "name": "ipython",
    "version": 3
   },
   "file_extension": ".py",
   "mimetype": "text/x-python",
   "name": "python",
   "nbconvert_exporter": "python",
   "pygments_lexer": "ipython3",
   "version": "3.9.13"
  },
  "orig_nbformat": 4
 },
 "nbformat": 4,
 "nbformat_minor": 2
}
