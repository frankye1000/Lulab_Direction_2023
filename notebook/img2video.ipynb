{
 "cells": [
  {
   "cell_type": "code",
   "execution_count": null,
   "metadata": {},
   "outputs": [],
   "source": [
    "import os\n",
    "import cv2\n",
    "from glob import glob"
   ]
  },
  {
   "cell_type": "code",
   "execution_count": null,
   "metadata": {},
   "outputs": [],
   "source": [
    "testdata = \"test_20220802\"\n",
    "# 從stage 3 資料夾讀圖片\n",
    "stage3_img_paths = sorted(glob(\"../dataset/result_img/{}_stage3_everyframes_result_20230430/*.png\".format(testdata)))\n",
    "stage3_img_names = [img_p.split(\"/\")[-1] for img_p in stage3_img_paths]\n",
    "print(len(stage3_img_names))\n",
    "# 從stage 1 資料夾讀圖片\n",
    "stage1_img_paths = sorted(glob(\"../../classification/dataset_test_everyframes/{}/*.png\".format(testdata)))\n",
    "print(len(stage1_img_paths))"
   ]
  },
  {
   "cell_type": "code",
   "execution_count": null,
   "metadata": {},
   "outputs": [],
   "source": [
    "fourcc = cv2.VideoWriter_fourcc(*'mp4v')\n",
    "video  = cv2.VideoWriter(\"../dataset/result_video/test_everyframes_20230430/{}.mp4\".format(testdata), fourcc, 33, (760, 760))   #FPS要30\n",
    "\n",
    "\n",
    "for stage1_img_path in stage1_img_paths:\n",
    "    img_name = stage1_img_path.split(\"/\")[-1]\n",
    "    # 如果stage 3有圖片就取代stage 1的圖片\n",
    "    if img_name in stage3_img_names:\n",
    "        stage3_img_path = \"../dataset/result_img/{}_stage3_everyframes_result_20230430/\".format(testdata) + img_name\n",
    "        img_array = cv2.imread(stage3_img_path)\n",
    "        img_array = cv2.resize(img_array,(760,760))  # 影像要同大小\n",
    "        video.write(img_array)\n",
    "    else:\n",
    "        img_array = cv2.imread(stage1_img_path)\n",
    "        img_array = cv2.resize(img_array,(760,760))  # 影像要同大小\n",
    "        video.write(img_array)\n",
    "\n",
    "video.release()"
   ]
  },
  {
   "cell_type": "code",
   "execution_count": null,
   "metadata": {},
   "outputs": [],
   "source": []
  },
  {
   "cell_type": "code",
   "execution_count": null,
   "metadata": {},
   "outputs": [],
   "source": []
  }
 ],
 "metadata": {
  "kernelspec": {
   "display_name": "base",
   "language": "python",
   "name": "python3"
  },
  "language_info": {
   "codemirror_mode": {
    "name": "ipython",
    "version": 3
   },
   "file_extension": ".py",
   "mimetype": "text/x-python",
   "name": "python",
   "nbconvert_exporter": "python",
   "pygments_lexer": "ipython3",
   "version": "3.9.13"
  },
  "orig_nbformat": 4,
  "vscode": {
   "interpreter": {
    "hash": "1448b48b023bcc9c3d4a79e814720a10ca6d4244f75e0f7ce4af58f96ba2b7d3"
   }
  }
 },
 "nbformat": 4,
 "nbformat_minor": 2
}
